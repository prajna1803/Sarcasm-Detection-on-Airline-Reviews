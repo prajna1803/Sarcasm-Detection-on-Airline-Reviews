{
  "nbformat": 4,
  "nbformat_minor": 0,
  "metadata": {
    "colab": {
      "provenance": []
    },
    "kernelspec": {
      "name": "python3",
      "display_name": "Python 3"
    },
    "language_info": {
      "name": "python"
    }
  },
  "cells": [
    {
      "cell_type": "code",
      "execution_count": null,
      "metadata": {
        "id": "p0eqfRVZDlWg"
      },
      "outputs": [],
      "source": [
        "# Import necessary libraries\n",
        "import pandas as pd\n",
        "from transformers import AutoTokenizer, AutoModelForSequenceClassification, pipeline\n",
        "\n",
        "# Load the dataset from Google Drive\n",
        "file_path = '/content/drive/My Drive/Airline_Reviews.csv'\n",
        "df = pd.read_csv(file_path)\n",
        "\n",
        "# Load the sarcasm detection model\n",
        "model_name = \"DeepPavlov/rubert-base-cased-conversational\"\n",
        "tokenizer = AutoTokenizer.from_pretrained(model_name)\n",
        "model = AutoModelForSequenceClassification.from_pretrained(model_name)\n",
        "\n",
        "sarcasm_detection = pipeline(\"text-classification\", model=model, tokenizer=tokenizer)\n",
        "\n",
        "# Define a function to predict sarcasm\n",
        "def predict_sarcasm(review):\n",
        "    # Truncate the review to the maximum token length supported by the model\n",
        "    inputs = tokenizer(review, truncation=True, max_length=512, return_tensors=\"pt\")\n",
        "    result = sarcasm_detection(review)\n",
        "    label = result[0]['label']\n",
        "    return 1 if label == 'LABEL_1' else 0  # Assuming 'LABEL_1' indicates sarcasm\n",
        "\n",
        "# Apply the sarcasm detection to the dataset\n",
        "df['sarcasm'] = df['Review'].apply(predict_sarcasm)\n",
        "\n",
        "# Save the labeled dataset back to Google Drive\n",
        "df.to_csv('/content/drive/My Drive/Airline_Reviews_Labeled.csv', index=False)\n",
        "\n",
        "print(\"Sarcasm labeling completed and saved to Google Drive.\")\n"
      ]
    }
  ]
}