{
  "nbformat": 4,
  "nbformat_minor": 0,
  "metadata": {
    "colab": {
      "provenance": [],
      "toc_visible": true
    },
    "kernelspec": {
      "name": "python3",
      "display_name": "Python 3"
    },
    "language_info": {
      "name": "python"
    },
    "widgets": {
      "application/vnd.jupyter.widget-state+json": {
        "52ebd9fa0cad47c1993c9e44a1c08ec8": {
          "model_module": "@jupyter-widgets/controls",
          "model_name": "HBoxModel",
          "model_module_version": "1.5.0",
          "state": {
            "_dom_classes": [],
            "_model_module": "@jupyter-widgets/controls",
            "_model_module_version": "1.5.0",
            "_model_name": "HBoxModel",
            "_view_count": null,
            "_view_module": "@jupyter-widgets/controls",
            "_view_module_version": "1.5.0",
            "_view_name": "HBoxView",
            "box_style": "",
            "children": [
              "IPY_MODEL_b61359102c47443884741fc296fecdbf",
              "IPY_MODEL_71e06b16a8e849d88d160e97eaa28276",
              "IPY_MODEL_1ab0150a158e467b991fba21953409d2"
            ],
            "layout": "IPY_MODEL_4e7dccb1f1e74450880c6e94be227814"
          }
        },
        "b61359102c47443884741fc296fecdbf": {
          "model_module": "@jupyter-widgets/controls",
          "model_name": "HTMLModel",
          "model_module_version": "1.5.0",
          "state": {
            "_dom_classes": [],
            "_model_module": "@jupyter-widgets/controls",
            "_model_module_version": "1.5.0",
            "_model_name": "HTMLModel",
            "_view_count": null,
            "_view_module": "@jupyter-widgets/controls",
            "_view_module_version": "1.5.0",
            "_view_name": "HTMLView",
            "description": "",
            "description_tooltip": null,
            "layout": "IPY_MODEL_340155febe7647ec9e383d3f999d87a2",
            "placeholder": "​",
            "style": "IPY_MODEL_73fab892220d44a8a4eb9a4aa038e70f",
            "value": "tokenizer_config.json: 100%"
          }
        },
        "71e06b16a8e849d88d160e97eaa28276": {
          "model_module": "@jupyter-widgets/controls",
          "model_name": "FloatProgressModel",
          "model_module_version": "1.5.0",
          "state": {
            "_dom_classes": [],
            "_model_module": "@jupyter-widgets/controls",
            "_model_module_version": "1.5.0",
            "_model_name": "FloatProgressModel",
            "_view_count": null,
            "_view_module": "@jupyter-widgets/controls",
            "_view_module_version": "1.5.0",
            "_view_name": "ProgressView",
            "bar_style": "success",
            "description": "",
            "description_tooltip": null,
            "layout": "IPY_MODEL_98f51cf1b7f74219a38c4422ec8d57df",
            "max": 48,
            "min": 0,
            "orientation": "horizontal",
            "style": "IPY_MODEL_2e21aba85e6a40ce8a17ac3f307432de",
            "value": 48
          }
        },
        "1ab0150a158e467b991fba21953409d2": {
          "model_module": "@jupyter-widgets/controls",
          "model_name": "HTMLModel",
          "model_module_version": "1.5.0",
          "state": {
            "_dom_classes": [],
            "_model_module": "@jupyter-widgets/controls",
            "_model_module_version": "1.5.0",
            "_model_name": "HTMLModel",
            "_view_count": null,
            "_view_module": "@jupyter-widgets/controls",
            "_view_module_version": "1.5.0",
            "_view_name": "HTMLView",
            "description": "",
            "description_tooltip": null,
            "layout": "IPY_MODEL_ff030350f5eb4e73b44c0382ff3c40ba",
            "placeholder": "​",
            "style": "IPY_MODEL_c4d8f83a6d71499faa7510dc6ab43c05",
            "value": " 48.0/48.0 [00:00&lt;00:00, 2.64kB/s]"
          }
        },
        "4e7dccb1f1e74450880c6e94be227814": {
          "model_module": "@jupyter-widgets/base",
          "model_name": "LayoutModel",
          "model_module_version": "1.2.0",
          "state": {
            "_model_module": "@jupyter-widgets/base",
            "_model_module_version": "1.2.0",
            "_model_name": "LayoutModel",
            "_view_count": null,
            "_view_module": "@jupyter-widgets/base",
            "_view_module_version": "1.2.0",
            "_view_name": "LayoutView",
            "align_content": null,
            "align_items": null,
            "align_self": null,
            "border": null,
            "bottom": null,
            "display": null,
            "flex": null,
            "flex_flow": null,
            "grid_area": null,
            "grid_auto_columns": null,
            "grid_auto_flow": null,
            "grid_auto_rows": null,
            "grid_column": null,
            "grid_gap": null,
            "grid_row": null,
            "grid_template_areas": null,
            "grid_template_columns": null,
            "grid_template_rows": null,
            "height": null,
            "justify_content": null,
            "justify_items": null,
            "left": null,
            "margin": null,
            "max_height": null,
            "max_width": null,
            "min_height": null,
            "min_width": null,
            "object_fit": null,
            "object_position": null,
            "order": null,
            "overflow": null,
            "overflow_x": null,
            "overflow_y": null,
            "padding": null,
            "right": null,
            "top": null,
            "visibility": null,
            "width": null
          }
        },
        "340155febe7647ec9e383d3f999d87a2": {
          "model_module": "@jupyter-widgets/base",
          "model_name": "LayoutModel",
          "model_module_version": "1.2.0",
          "state": {
            "_model_module": "@jupyter-widgets/base",
            "_model_module_version": "1.2.0",
            "_model_name": "LayoutModel",
            "_view_count": null,
            "_view_module": "@jupyter-widgets/base",
            "_view_module_version": "1.2.0",
            "_view_name": "LayoutView",
            "align_content": null,
            "align_items": null,
            "align_self": null,
            "border": null,
            "bottom": null,
            "display": null,
            "flex": null,
            "flex_flow": null,
            "grid_area": null,
            "grid_auto_columns": null,
            "grid_auto_flow": null,
            "grid_auto_rows": null,
            "grid_column": null,
            "grid_gap": null,
            "grid_row": null,
            "grid_template_areas": null,
            "grid_template_columns": null,
            "grid_template_rows": null,
            "height": null,
            "justify_content": null,
            "justify_items": null,
            "left": null,
            "margin": null,
            "max_height": null,
            "max_width": null,
            "min_height": null,
            "min_width": null,
            "object_fit": null,
            "object_position": null,
            "order": null,
            "overflow": null,
            "overflow_x": null,
            "overflow_y": null,
            "padding": null,
            "right": null,
            "top": null,
            "visibility": null,
            "width": null
          }
        },
        "73fab892220d44a8a4eb9a4aa038e70f": {
          "model_module": "@jupyter-widgets/controls",
          "model_name": "DescriptionStyleModel",
          "model_module_version": "1.5.0",
          "state": {
            "_model_module": "@jupyter-widgets/controls",
            "_model_module_version": "1.5.0",
            "_model_name": "DescriptionStyleModel",
            "_view_count": null,
            "_view_module": "@jupyter-widgets/base",
            "_view_module_version": "1.2.0",
            "_view_name": "StyleView",
            "description_width": ""
          }
        },
        "98f51cf1b7f74219a38c4422ec8d57df": {
          "model_module": "@jupyter-widgets/base",
          "model_name": "LayoutModel",
          "model_module_version": "1.2.0",
          "state": {
            "_model_module": "@jupyter-widgets/base",
            "_model_module_version": "1.2.0",
            "_model_name": "LayoutModel",
            "_view_count": null,
            "_view_module": "@jupyter-widgets/base",
            "_view_module_version": "1.2.0",
            "_view_name": "LayoutView",
            "align_content": null,
            "align_items": null,
            "align_self": null,
            "border": null,
            "bottom": null,
            "display": null,
            "flex": null,
            "flex_flow": null,
            "grid_area": null,
            "grid_auto_columns": null,
            "grid_auto_flow": null,
            "grid_auto_rows": null,
            "grid_column": null,
            "grid_gap": null,
            "grid_row": null,
            "grid_template_areas": null,
            "grid_template_columns": null,
            "grid_template_rows": null,
            "height": null,
            "justify_content": null,
            "justify_items": null,
            "left": null,
            "margin": null,
            "max_height": null,
            "max_width": null,
            "min_height": null,
            "min_width": null,
            "object_fit": null,
            "object_position": null,
            "order": null,
            "overflow": null,
            "overflow_x": null,
            "overflow_y": null,
            "padding": null,
            "right": null,
            "top": null,
            "visibility": null,
            "width": null
          }
        },
        "2e21aba85e6a40ce8a17ac3f307432de": {
          "model_module": "@jupyter-widgets/controls",
          "model_name": "ProgressStyleModel",
          "model_module_version": "1.5.0",
          "state": {
            "_model_module": "@jupyter-widgets/controls",
            "_model_module_version": "1.5.0",
            "_model_name": "ProgressStyleModel",
            "_view_count": null,
            "_view_module": "@jupyter-widgets/base",
            "_view_module_version": "1.2.0",
            "_view_name": "StyleView",
            "bar_color": null,
            "description_width": ""
          }
        },
        "ff030350f5eb4e73b44c0382ff3c40ba": {
          "model_module": "@jupyter-widgets/base",
          "model_name": "LayoutModel",
          "model_module_version": "1.2.0",
          "state": {
            "_model_module": "@jupyter-widgets/base",
            "_model_module_version": "1.2.0",
            "_model_name": "LayoutModel",
            "_view_count": null,
            "_view_module": "@jupyter-widgets/base",
            "_view_module_version": "1.2.0",
            "_view_name": "LayoutView",
            "align_content": null,
            "align_items": null,
            "align_self": null,
            "border": null,
            "bottom": null,
            "display": null,
            "flex": null,
            "flex_flow": null,
            "grid_area": null,
            "grid_auto_columns": null,
            "grid_auto_flow": null,
            "grid_auto_rows": null,
            "grid_column": null,
            "grid_gap": null,
            "grid_row": null,
            "grid_template_areas": null,
            "grid_template_columns": null,
            "grid_template_rows": null,
            "height": null,
            "justify_content": null,
            "justify_items": null,
            "left": null,
            "margin": null,
            "max_height": null,
            "max_width": null,
            "min_height": null,
            "min_width": null,
            "object_fit": null,
            "object_position": null,
            "order": null,
            "overflow": null,
            "overflow_x": null,
            "overflow_y": null,
            "padding": null,
            "right": null,
            "top": null,
            "visibility": null,
            "width": null
          }
        },
        "c4d8f83a6d71499faa7510dc6ab43c05": {
          "model_module": "@jupyter-widgets/controls",
          "model_name": "DescriptionStyleModel",
          "model_module_version": "1.5.0",
          "state": {
            "_model_module": "@jupyter-widgets/controls",
            "_model_module_version": "1.5.0",
            "_model_name": "DescriptionStyleModel",
            "_view_count": null,
            "_view_module": "@jupyter-widgets/base",
            "_view_module_version": "1.2.0",
            "_view_name": "StyleView",
            "description_width": ""
          }
        },
        "90b776f9fef145f6b788a83ea1509c97": {
          "model_module": "@jupyter-widgets/controls",
          "model_name": "HBoxModel",
          "model_module_version": "1.5.0",
          "state": {
            "_dom_classes": [],
            "_model_module": "@jupyter-widgets/controls",
            "_model_module_version": "1.5.0",
            "_model_name": "HBoxModel",
            "_view_count": null,
            "_view_module": "@jupyter-widgets/controls",
            "_view_module_version": "1.5.0",
            "_view_name": "HBoxView",
            "box_style": "",
            "children": [
              "IPY_MODEL_a8d68d1cf9864b198e820ddd4e6b9a8e",
              "IPY_MODEL_ea57b00fb15a4a5e80f0b29a53d36eea",
              "IPY_MODEL_47a3ee5b7a42475ebb36bf926a20b8b1"
            ],
            "layout": "IPY_MODEL_757f3ebcc3954ac985cb3828800346e7"
          }
        },
        "a8d68d1cf9864b198e820ddd4e6b9a8e": {
          "model_module": "@jupyter-widgets/controls",
          "model_name": "HTMLModel",
          "model_module_version": "1.5.0",
          "state": {
            "_dom_classes": [],
            "_model_module": "@jupyter-widgets/controls",
            "_model_module_version": "1.5.0",
            "_model_name": "HTMLModel",
            "_view_count": null,
            "_view_module": "@jupyter-widgets/controls",
            "_view_module_version": "1.5.0",
            "_view_name": "HTMLView",
            "description": "",
            "description_tooltip": null,
            "layout": "IPY_MODEL_1c5b37b2f316429989a94582512cf9c9",
            "placeholder": "​",
            "style": "IPY_MODEL_dc83336ad8964538a4e0582f8d77b4b1",
            "value": "config.json: 100%"
          }
        },
        "ea57b00fb15a4a5e80f0b29a53d36eea": {
          "model_module": "@jupyter-widgets/controls",
          "model_name": "FloatProgressModel",
          "model_module_version": "1.5.0",
          "state": {
            "_dom_classes": [],
            "_model_module": "@jupyter-widgets/controls",
            "_model_module_version": "1.5.0",
            "_model_name": "FloatProgressModel",
            "_view_count": null,
            "_view_module": "@jupyter-widgets/controls",
            "_view_module_version": "1.5.0",
            "_view_name": "ProgressView",
            "bar_style": "success",
            "description": "",
            "description_tooltip": null,
            "layout": "IPY_MODEL_1530bf6907eb41f49cd45c3c942ae99d",
            "max": 570,
            "min": 0,
            "orientation": "horizontal",
            "style": "IPY_MODEL_d5b6a8f7e011415ab12669ca87707566",
            "value": 570
          }
        },
        "47a3ee5b7a42475ebb36bf926a20b8b1": {
          "model_module": "@jupyter-widgets/controls",
          "model_name": "HTMLModel",
          "model_module_version": "1.5.0",
          "state": {
            "_dom_classes": [],
            "_model_module": "@jupyter-widgets/controls",
            "_model_module_version": "1.5.0",
            "_model_name": "HTMLModel",
            "_view_count": null,
            "_view_module": "@jupyter-widgets/controls",
            "_view_module_version": "1.5.0",
            "_view_name": "HTMLView",
            "description": "",
            "description_tooltip": null,
            "layout": "IPY_MODEL_e0749d13b84e4dd5b66560c7dbdbadbf",
            "placeholder": "​",
            "style": "IPY_MODEL_bc8ba466dbd849ea87839e4fea58b40a",
            "value": " 570/570 [00:00&lt;00:00, 28.1kB/s]"
          }
        },
        "757f3ebcc3954ac985cb3828800346e7": {
          "model_module": "@jupyter-widgets/base",
          "model_name": "LayoutModel",
          "model_module_version": "1.2.0",
          "state": {
            "_model_module": "@jupyter-widgets/base",
            "_model_module_version": "1.2.0",
            "_model_name": "LayoutModel",
            "_view_count": null,
            "_view_module": "@jupyter-widgets/base",
            "_view_module_version": "1.2.0",
            "_view_name": "LayoutView",
            "align_content": null,
            "align_items": null,
            "align_self": null,
            "border": null,
            "bottom": null,
            "display": null,
            "flex": null,
            "flex_flow": null,
            "grid_area": null,
            "grid_auto_columns": null,
            "grid_auto_flow": null,
            "grid_auto_rows": null,
            "grid_column": null,
            "grid_gap": null,
            "grid_row": null,
            "grid_template_areas": null,
            "grid_template_columns": null,
            "grid_template_rows": null,
            "height": null,
            "justify_content": null,
            "justify_items": null,
            "left": null,
            "margin": null,
            "max_height": null,
            "max_width": null,
            "min_height": null,
            "min_width": null,
            "object_fit": null,
            "object_position": null,
            "order": null,
            "overflow": null,
            "overflow_x": null,
            "overflow_y": null,
            "padding": null,
            "right": null,
            "top": null,
            "visibility": null,
            "width": null
          }
        },
        "1c5b37b2f316429989a94582512cf9c9": {
          "model_module": "@jupyter-widgets/base",
          "model_name": "LayoutModel",
          "model_module_version": "1.2.0",
          "state": {
            "_model_module": "@jupyter-widgets/base",
            "_model_module_version": "1.2.0",
            "_model_name": "LayoutModel",
            "_view_count": null,
            "_view_module": "@jupyter-widgets/base",
            "_view_module_version": "1.2.0",
            "_view_name": "LayoutView",
            "align_content": null,
            "align_items": null,
            "align_self": null,
            "border": null,
            "bottom": null,
            "display": null,
            "flex": null,
            "flex_flow": null,
            "grid_area": null,
            "grid_auto_columns": null,
            "grid_auto_flow": null,
            "grid_auto_rows": null,
            "grid_column": null,
            "grid_gap": null,
            "grid_row": null,
            "grid_template_areas": null,
            "grid_template_columns": null,
            "grid_template_rows": null,
            "height": null,
            "justify_content": null,
            "justify_items": null,
            "left": null,
            "margin": null,
            "max_height": null,
            "max_width": null,
            "min_height": null,
            "min_width": null,
            "object_fit": null,
            "object_position": null,
            "order": null,
            "overflow": null,
            "overflow_x": null,
            "overflow_y": null,
            "padding": null,
            "right": null,
            "top": null,
            "visibility": null,
            "width": null
          }
        },
        "dc83336ad8964538a4e0582f8d77b4b1": {
          "model_module": "@jupyter-widgets/controls",
          "model_name": "DescriptionStyleModel",
          "model_module_version": "1.5.0",
          "state": {
            "_model_module": "@jupyter-widgets/controls",
            "_model_module_version": "1.5.0",
            "_model_name": "DescriptionStyleModel",
            "_view_count": null,
            "_view_module": "@jupyter-widgets/base",
            "_view_module_version": "1.2.0",
            "_view_name": "StyleView",
            "description_width": ""
          }
        },
        "1530bf6907eb41f49cd45c3c942ae99d": {
          "model_module": "@jupyter-widgets/base",
          "model_name": "LayoutModel",
          "model_module_version": "1.2.0",
          "state": {
            "_model_module": "@jupyter-widgets/base",
            "_model_module_version": "1.2.0",
            "_model_name": "LayoutModel",
            "_view_count": null,
            "_view_module": "@jupyter-widgets/base",
            "_view_module_version": "1.2.0",
            "_view_name": "LayoutView",
            "align_content": null,
            "align_items": null,
            "align_self": null,
            "border": null,
            "bottom": null,
            "display": null,
            "flex": null,
            "flex_flow": null,
            "grid_area": null,
            "grid_auto_columns": null,
            "grid_auto_flow": null,
            "grid_auto_rows": null,
            "grid_column": null,
            "grid_gap": null,
            "grid_row": null,
            "grid_template_areas": null,
            "grid_template_columns": null,
            "grid_template_rows": null,
            "height": null,
            "justify_content": null,
            "justify_items": null,
            "left": null,
            "margin": null,
            "max_height": null,
            "max_width": null,
            "min_height": null,
            "min_width": null,
            "object_fit": null,
            "object_position": null,
            "order": null,
            "overflow": null,
            "overflow_x": null,
            "overflow_y": null,
            "padding": null,
            "right": null,
            "top": null,
            "visibility": null,
            "width": null
          }
        },
        "d5b6a8f7e011415ab12669ca87707566": {
          "model_module": "@jupyter-widgets/controls",
          "model_name": "ProgressStyleModel",
          "model_module_version": "1.5.0",
          "state": {
            "_model_module": "@jupyter-widgets/controls",
            "_model_module_version": "1.5.0",
            "_model_name": "ProgressStyleModel",
            "_view_count": null,
            "_view_module": "@jupyter-widgets/base",
            "_view_module_version": "1.2.0",
            "_view_name": "StyleView",
            "bar_color": null,
            "description_width": ""
          }
        },
        "e0749d13b84e4dd5b66560c7dbdbadbf": {
          "model_module": "@jupyter-widgets/base",
          "model_name": "LayoutModel",
          "model_module_version": "1.2.0",
          "state": {
            "_model_module": "@jupyter-widgets/base",
            "_model_module_version": "1.2.0",
            "_model_name": "LayoutModel",
            "_view_count": null,
            "_view_module": "@jupyter-widgets/base",
            "_view_module_version": "1.2.0",
            "_view_name": "LayoutView",
            "align_content": null,
            "align_items": null,
            "align_self": null,
            "border": null,
            "bottom": null,
            "display": null,
            "flex": null,
            "flex_flow": null,
            "grid_area": null,
            "grid_auto_columns": null,
            "grid_auto_flow": null,
            "grid_auto_rows": null,
            "grid_column": null,
            "grid_gap": null,
            "grid_row": null,
            "grid_template_areas": null,
            "grid_template_columns": null,
            "grid_template_rows": null,
            "height": null,
            "justify_content": null,
            "justify_items": null,
            "left": null,
            "margin": null,
            "max_height": null,
            "max_width": null,
            "min_height": null,
            "min_width": null,
            "object_fit": null,
            "object_position": null,
            "order": null,
            "overflow": null,
            "overflow_x": null,
            "overflow_y": null,
            "padding": null,
            "right": null,
            "top": null,
            "visibility": null,
            "width": null
          }
        },
        "bc8ba466dbd849ea87839e4fea58b40a": {
          "model_module": "@jupyter-widgets/controls",
          "model_name": "DescriptionStyleModel",
          "model_module_version": "1.5.0",
          "state": {
            "_model_module": "@jupyter-widgets/controls",
            "_model_module_version": "1.5.0",
            "_model_name": "DescriptionStyleModel",
            "_view_count": null,
            "_view_module": "@jupyter-widgets/base",
            "_view_module_version": "1.2.0",
            "_view_name": "StyleView",
            "description_width": ""
          }
        },
        "ffcc171c3a3e484ca86fdf979c5971c9": {
          "model_module": "@jupyter-widgets/controls",
          "model_name": "HBoxModel",
          "model_module_version": "1.5.0",
          "state": {
            "_dom_classes": [],
            "_model_module": "@jupyter-widgets/controls",
            "_model_module_version": "1.5.0",
            "_model_name": "HBoxModel",
            "_view_count": null,
            "_view_module": "@jupyter-widgets/controls",
            "_view_module_version": "1.5.0",
            "_view_name": "HBoxView",
            "box_style": "",
            "children": [
              "IPY_MODEL_ac6f3f93676b4d7ea5d24b991f330431",
              "IPY_MODEL_ae799b8a7abc42f0a5cfd1f962c5fe75",
              "IPY_MODEL_45684f3526e64fe2a1e554de1fbd41a3"
            ],
            "layout": "IPY_MODEL_d15f5672462f4b73b68fb9fe6ac0bcc9"
          }
        },
        "ac6f3f93676b4d7ea5d24b991f330431": {
          "model_module": "@jupyter-widgets/controls",
          "model_name": "HTMLModel",
          "model_module_version": "1.5.0",
          "state": {
            "_dom_classes": [],
            "_model_module": "@jupyter-widgets/controls",
            "_model_module_version": "1.5.0",
            "_model_name": "HTMLModel",
            "_view_count": null,
            "_view_module": "@jupyter-widgets/controls",
            "_view_module_version": "1.5.0",
            "_view_name": "HTMLView",
            "description": "",
            "description_tooltip": null,
            "layout": "IPY_MODEL_58d6b6c742ea410fa28384ec1eee920a",
            "placeholder": "​",
            "style": "IPY_MODEL_aad8084af7bc45388cbb6cda39439a99",
            "value": "vocab.txt: 100%"
          }
        },
        "ae799b8a7abc42f0a5cfd1f962c5fe75": {
          "model_module": "@jupyter-widgets/controls",
          "model_name": "FloatProgressModel",
          "model_module_version": "1.5.0",
          "state": {
            "_dom_classes": [],
            "_model_module": "@jupyter-widgets/controls",
            "_model_module_version": "1.5.0",
            "_model_name": "FloatProgressModel",
            "_view_count": null,
            "_view_module": "@jupyter-widgets/controls",
            "_view_module_version": "1.5.0",
            "_view_name": "ProgressView",
            "bar_style": "success",
            "description": "",
            "description_tooltip": null,
            "layout": "IPY_MODEL_57660aae59294c56bf352c5476cf5000",
            "max": 231508,
            "min": 0,
            "orientation": "horizontal",
            "style": "IPY_MODEL_84c4f11dcfcb4589aea3be6c2bed5a03",
            "value": 231508
          }
        },
        "45684f3526e64fe2a1e554de1fbd41a3": {
          "model_module": "@jupyter-widgets/controls",
          "model_name": "HTMLModel",
          "model_module_version": "1.5.0",
          "state": {
            "_dom_classes": [],
            "_model_module": "@jupyter-widgets/controls",
            "_model_module_version": "1.5.0",
            "_model_name": "HTMLModel",
            "_view_count": null,
            "_view_module": "@jupyter-widgets/controls",
            "_view_module_version": "1.5.0",
            "_view_name": "HTMLView",
            "description": "",
            "description_tooltip": null,
            "layout": "IPY_MODEL_3f2dde82cea74a97adb1c7db2e78f75b",
            "placeholder": "​",
            "style": "IPY_MODEL_7168a0a543834bc68fa9c352fe54a96e",
            "value": " 232k/232k [00:00&lt;00:00, 674kB/s]"
          }
        },
        "d15f5672462f4b73b68fb9fe6ac0bcc9": {
          "model_module": "@jupyter-widgets/base",
          "model_name": "LayoutModel",
          "model_module_version": "1.2.0",
          "state": {
            "_model_module": "@jupyter-widgets/base",
            "_model_module_version": "1.2.0",
            "_model_name": "LayoutModel",
            "_view_count": null,
            "_view_module": "@jupyter-widgets/base",
            "_view_module_version": "1.2.0",
            "_view_name": "LayoutView",
            "align_content": null,
            "align_items": null,
            "align_self": null,
            "border": null,
            "bottom": null,
            "display": null,
            "flex": null,
            "flex_flow": null,
            "grid_area": null,
            "grid_auto_columns": null,
            "grid_auto_flow": null,
            "grid_auto_rows": null,
            "grid_column": null,
            "grid_gap": null,
            "grid_row": null,
            "grid_template_areas": null,
            "grid_template_columns": null,
            "grid_template_rows": null,
            "height": null,
            "justify_content": null,
            "justify_items": null,
            "left": null,
            "margin": null,
            "max_height": null,
            "max_width": null,
            "min_height": null,
            "min_width": null,
            "object_fit": null,
            "object_position": null,
            "order": null,
            "overflow": null,
            "overflow_x": null,
            "overflow_y": null,
            "padding": null,
            "right": null,
            "top": null,
            "visibility": null,
            "width": null
          }
        },
        "58d6b6c742ea410fa28384ec1eee920a": {
          "model_module": "@jupyter-widgets/base",
          "model_name": "LayoutModel",
          "model_module_version": "1.2.0",
          "state": {
            "_model_module": "@jupyter-widgets/base",
            "_model_module_version": "1.2.0",
            "_model_name": "LayoutModel",
            "_view_count": null,
            "_view_module": "@jupyter-widgets/base",
            "_view_module_version": "1.2.0",
            "_view_name": "LayoutView",
            "align_content": null,
            "align_items": null,
            "align_self": null,
            "border": null,
            "bottom": null,
            "display": null,
            "flex": null,
            "flex_flow": null,
            "grid_area": null,
            "grid_auto_columns": null,
            "grid_auto_flow": null,
            "grid_auto_rows": null,
            "grid_column": null,
            "grid_gap": null,
            "grid_row": null,
            "grid_template_areas": null,
            "grid_template_columns": null,
            "grid_template_rows": null,
            "height": null,
            "justify_content": null,
            "justify_items": null,
            "left": null,
            "margin": null,
            "max_height": null,
            "max_width": null,
            "min_height": null,
            "min_width": null,
            "object_fit": null,
            "object_position": null,
            "order": null,
            "overflow": null,
            "overflow_x": null,
            "overflow_y": null,
            "padding": null,
            "right": null,
            "top": null,
            "visibility": null,
            "width": null
          }
        },
        "aad8084af7bc45388cbb6cda39439a99": {
          "model_module": "@jupyter-widgets/controls",
          "model_name": "DescriptionStyleModel",
          "model_module_version": "1.5.0",
          "state": {
            "_model_module": "@jupyter-widgets/controls",
            "_model_module_version": "1.5.0",
            "_model_name": "DescriptionStyleModel",
            "_view_count": null,
            "_view_module": "@jupyter-widgets/base",
            "_view_module_version": "1.2.0",
            "_view_name": "StyleView",
            "description_width": ""
          }
        },
        "57660aae59294c56bf352c5476cf5000": {
          "model_module": "@jupyter-widgets/base",
          "model_name": "LayoutModel",
          "model_module_version": "1.2.0",
          "state": {
            "_model_module": "@jupyter-widgets/base",
            "_model_module_version": "1.2.0",
            "_model_name": "LayoutModel",
            "_view_count": null,
            "_view_module": "@jupyter-widgets/base",
            "_view_module_version": "1.2.0",
            "_view_name": "LayoutView",
            "align_content": null,
            "align_items": null,
            "align_self": null,
            "border": null,
            "bottom": null,
            "display": null,
            "flex": null,
            "flex_flow": null,
            "grid_area": null,
            "grid_auto_columns": null,
            "grid_auto_flow": null,
            "grid_auto_rows": null,
            "grid_column": null,
            "grid_gap": null,
            "grid_row": null,
            "grid_template_areas": null,
            "grid_template_columns": null,
            "grid_template_rows": null,
            "height": null,
            "justify_content": null,
            "justify_items": null,
            "left": null,
            "margin": null,
            "max_height": null,
            "max_width": null,
            "min_height": null,
            "min_width": null,
            "object_fit": null,
            "object_position": null,
            "order": null,
            "overflow": null,
            "overflow_x": null,
            "overflow_y": null,
            "padding": null,
            "right": null,
            "top": null,
            "visibility": null,
            "width": null
          }
        },
        "84c4f11dcfcb4589aea3be6c2bed5a03": {
          "model_module": "@jupyter-widgets/controls",
          "model_name": "ProgressStyleModel",
          "model_module_version": "1.5.0",
          "state": {
            "_model_module": "@jupyter-widgets/controls",
            "_model_module_version": "1.5.0",
            "_model_name": "ProgressStyleModel",
            "_view_count": null,
            "_view_module": "@jupyter-widgets/base",
            "_view_module_version": "1.2.0",
            "_view_name": "StyleView",
            "bar_color": null,
            "description_width": ""
          }
        },
        "3f2dde82cea74a97adb1c7db2e78f75b": {
          "model_module": "@jupyter-widgets/base",
          "model_name": "LayoutModel",
          "model_module_version": "1.2.0",
          "state": {
            "_model_module": "@jupyter-widgets/base",
            "_model_module_version": "1.2.0",
            "_model_name": "LayoutModel",
            "_view_count": null,
            "_view_module": "@jupyter-widgets/base",
            "_view_module_version": "1.2.0",
            "_view_name": "LayoutView",
            "align_content": null,
            "align_items": null,
            "align_self": null,
            "border": null,
            "bottom": null,
            "display": null,
            "flex": null,
            "flex_flow": null,
            "grid_area": null,
            "grid_auto_columns": null,
            "grid_auto_flow": null,
            "grid_auto_rows": null,
            "grid_column": null,
            "grid_gap": null,
            "grid_row": null,
            "grid_template_areas": null,
            "grid_template_columns": null,
            "grid_template_rows": null,
            "height": null,
            "justify_content": null,
            "justify_items": null,
            "left": null,
            "margin": null,
            "max_height": null,
            "max_width": null,
            "min_height": null,
            "min_width": null,
            "object_fit": null,
            "object_position": null,
            "order": null,
            "overflow": null,
            "overflow_x": null,
            "overflow_y": null,
            "padding": null,
            "right": null,
            "top": null,
            "visibility": null,
            "width": null
          }
        },
        "7168a0a543834bc68fa9c352fe54a96e": {
          "model_module": "@jupyter-widgets/controls",
          "model_name": "DescriptionStyleModel",
          "model_module_version": "1.5.0",
          "state": {
            "_model_module": "@jupyter-widgets/controls",
            "_model_module_version": "1.5.0",
            "_model_name": "DescriptionStyleModel",
            "_view_count": null,
            "_view_module": "@jupyter-widgets/base",
            "_view_module_version": "1.2.0",
            "_view_name": "StyleView",
            "description_width": ""
          }
        },
        "c661fb3fa3f24b37b88a1cf34b6bacda": {
          "model_module": "@jupyter-widgets/controls",
          "model_name": "HBoxModel",
          "model_module_version": "1.5.0",
          "state": {
            "_dom_classes": [],
            "_model_module": "@jupyter-widgets/controls",
            "_model_module_version": "1.5.0",
            "_model_name": "HBoxModel",
            "_view_count": null,
            "_view_module": "@jupyter-widgets/controls",
            "_view_module_version": "1.5.0",
            "_view_name": "HBoxView",
            "box_style": "",
            "children": [
              "IPY_MODEL_802de9f35b974d4c84d50e0818f8f08e",
              "IPY_MODEL_a70664db683c469f8406df39d3723e22",
              "IPY_MODEL_5a242fa5943a4954a995ff27dd27a606"
            ],
            "layout": "IPY_MODEL_9cb64dd06fa0474786859ef5135dbeed"
          }
        },
        "802de9f35b974d4c84d50e0818f8f08e": {
          "model_module": "@jupyter-widgets/controls",
          "model_name": "HTMLModel",
          "model_module_version": "1.5.0",
          "state": {
            "_dom_classes": [],
            "_model_module": "@jupyter-widgets/controls",
            "_model_module_version": "1.5.0",
            "_model_name": "HTMLModel",
            "_view_count": null,
            "_view_module": "@jupyter-widgets/controls",
            "_view_module_version": "1.5.0",
            "_view_name": "HTMLView",
            "description": "",
            "description_tooltip": null,
            "layout": "IPY_MODEL_a5d464752002478280bdb33a94626579",
            "placeholder": "​",
            "style": "IPY_MODEL_9197f9cc5ac9419c900e045195391429",
            "value": "tokenizer.json: 100%"
          }
        },
        "a70664db683c469f8406df39d3723e22": {
          "model_module": "@jupyter-widgets/controls",
          "model_name": "FloatProgressModel",
          "model_module_version": "1.5.0",
          "state": {
            "_dom_classes": [],
            "_model_module": "@jupyter-widgets/controls",
            "_model_module_version": "1.5.0",
            "_model_name": "FloatProgressModel",
            "_view_count": null,
            "_view_module": "@jupyter-widgets/controls",
            "_view_module_version": "1.5.0",
            "_view_name": "ProgressView",
            "bar_style": "success",
            "description": "",
            "description_tooltip": null,
            "layout": "IPY_MODEL_f69a8b3ae0e744dab2b5bb40f6eeb21c",
            "max": 466062,
            "min": 0,
            "orientation": "horizontal",
            "style": "IPY_MODEL_37e9e0e5e1cd4bf5bf046b0c00ab927b",
            "value": 466062
          }
        },
        "5a242fa5943a4954a995ff27dd27a606": {
          "model_module": "@jupyter-widgets/controls",
          "model_name": "HTMLModel",
          "model_module_version": "1.5.0",
          "state": {
            "_dom_classes": [],
            "_model_module": "@jupyter-widgets/controls",
            "_model_module_version": "1.5.0",
            "_model_name": "HTMLModel",
            "_view_count": null,
            "_view_module": "@jupyter-widgets/controls",
            "_view_module_version": "1.5.0",
            "_view_name": "HTMLView",
            "description": "",
            "description_tooltip": null,
            "layout": "IPY_MODEL_f21c71c8d3414a91aa1118dc24d2c479",
            "placeholder": "​",
            "style": "IPY_MODEL_69a805a3a9c845588595a0677db8cdda",
            "value": " 466k/466k [00:00&lt;00:00, 896kB/s]"
          }
        },
        "9cb64dd06fa0474786859ef5135dbeed": {
          "model_module": "@jupyter-widgets/base",
          "model_name": "LayoutModel",
          "model_module_version": "1.2.0",
          "state": {
            "_model_module": "@jupyter-widgets/base",
            "_model_module_version": "1.2.0",
            "_model_name": "LayoutModel",
            "_view_count": null,
            "_view_module": "@jupyter-widgets/base",
            "_view_module_version": "1.2.0",
            "_view_name": "LayoutView",
            "align_content": null,
            "align_items": null,
            "align_self": null,
            "border": null,
            "bottom": null,
            "display": null,
            "flex": null,
            "flex_flow": null,
            "grid_area": null,
            "grid_auto_columns": null,
            "grid_auto_flow": null,
            "grid_auto_rows": null,
            "grid_column": null,
            "grid_gap": null,
            "grid_row": null,
            "grid_template_areas": null,
            "grid_template_columns": null,
            "grid_template_rows": null,
            "height": null,
            "justify_content": null,
            "justify_items": null,
            "left": null,
            "margin": null,
            "max_height": null,
            "max_width": null,
            "min_height": null,
            "min_width": null,
            "object_fit": null,
            "object_position": null,
            "order": null,
            "overflow": null,
            "overflow_x": null,
            "overflow_y": null,
            "padding": null,
            "right": null,
            "top": null,
            "visibility": null,
            "width": null
          }
        },
        "a5d464752002478280bdb33a94626579": {
          "model_module": "@jupyter-widgets/base",
          "model_name": "LayoutModel",
          "model_module_version": "1.2.0",
          "state": {
            "_model_module": "@jupyter-widgets/base",
            "_model_module_version": "1.2.0",
            "_model_name": "LayoutModel",
            "_view_count": null,
            "_view_module": "@jupyter-widgets/base",
            "_view_module_version": "1.2.0",
            "_view_name": "LayoutView",
            "align_content": null,
            "align_items": null,
            "align_self": null,
            "border": null,
            "bottom": null,
            "display": null,
            "flex": null,
            "flex_flow": null,
            "grid_area": null,
            "grid_auto_columns": null,
            "grid_auto_flow": null,
            "grid_auto_rows": null,
            "grid_column": null,
            "grid_gap": null,
            "grid_row": null,
            "grid_template_areas": null,
            "grid_template_columns": null,
            "grid_template_rows": null,
            "height": null,
            "justify_content": null,
            "justify_items": null,
            "left": null,
            "margin": null,
            "max_height": null,
            "max_width": null,
            "min_height": null,
            "min_width": null,
            "object_fit": null,
            "object_position": null,
            "order": null,
            "overflow": null,
            "overflow_x": null,
            "overflow_y": null,
            "padding": null,
            "right": null,
            "top": null,
            "visibility": null,
            "width": null
          }
        },
        "9197f9cc5ac9419c900e045195391429": {
          "model_module": "@jupyter-widgets/controls",
          "model_name": "DescriptionStyleModel",
          "model_module_version": "1.5.0",
          "state": {
            "_model_module": "@jupyter-widgets/controls",
            "_model_module_version": "1.5.0",
            "_model_name": "DescriptionStyleModel",
            "_view_count": null,
            "_view_module": "@jupyter-widgets/base",
            "_view_module_version": "1.2.0",
            "_view_name": "StyleView",
            "description_width": ""
          }
        },
        "f69a8b3ae0e744dab2b5bb40f6eeb21c": {
          "model_module": "@jupyter-widgets/base",
          "model_name": "LayoutModel",
          "model_module_version": "1.2.0",
          "state": {
            "_model_module": "@jupyter-widgets/base",
            "_model_module_version": "1.2.0",
            "_model_name": "LayoutModel",
            "_view_count": null,
            "_view_module": "@jupyter-widgets/base",
            "_view_module_version": "1.2.0",
            "_view_name": "LayoutView",
            "align_content": null,
            "align_items": null,
            "align_self": null,
            "border": null,
            "bottom": null,
            "display": null,
            "flex": null,
            "flex_flow": null,
            "grid_area": null,
            "grid_auto_columns": null,
            "grid_auto_flow": null,
            "grid_auto_rows": null,
            "grid_column": null,
            "grid_gap": null,
            "grid_row": null,
            "grid_template_areas": null,
            "grid_template_columns": null,
            "grid_template_rows": null,
            "height": null,
            "justify_content": null,
            "justify_items": null,
            "left": null,
            "margin": null,
            "max_height": null,
            "max_width": null,
            "min_height": null,
            "min_width": null,
            "object_fit": null,
            "object_position": null,
            "order": null,
            "overflow": null,
            "overflow_x": null,
            "overflow_y": null,
            "padding": null,
            "right": null,
            "top": null,
            "visibility": null,
            "width": null
          }
        },
        "37e9e0e5e1cd4bf5bf046b0c00ab927b": {
          "model_module": "@jupyter-widgets/controls",
          "model_name": "ProgressStyleModel",
          "model_module_version": "1.5.0",
          "state": {
            "_model_module": "@jupyter-widgets/controls",
            "_model_module_version": "1.5.0",
            "_model_name": "ProgressStyleModel",
            "_view_count": null,
            "_view_module": "@jupyter-widgets/base",
            "_view_module_version": "1.2.0",
            "_view_name": "StyleView",
            "bar_color": null,
            "description_width": ""
          }
        },
        "f21c71c8d3414a91aa1118dc24d2c479": {
          "model_module": "@jupyter-widgets/base",
          "model_name": "LayoutModel",
          "model_module_version": "1.2.0",
          "state": {
            "_model_module": "@jupyter-widgets/base",
            "_model_module_version": "1.2.0",
            "_model_name": "LayoutModel",
            "_view_count": null,
            "_view_module": "@jupyter-widgets/base",
            "_view_module_version": "1.2.0",
            "_view_name": "LayoutView",
            "align_content": null,
            "align_items": null,
            "align_self": null,
            "border": null,
            "bottom": null,
            "display": null,
            "flex": null,
            "flex_flow": null,
            "grid_area": null,
            "grid_auto_columns": null,
            "grid_auto_flow": null,
            "grid_auto_rows": null,
            "grid_column": null,
            "grid_gap": null,
            "grid_row": null,
            "grid_template_areas": null,
            "grid_template_columns": null,
            "grid_template_rows": null,
            "height": null,
            "justify_content": null,
            "justify_items": null,
            "left": null,
            "margin": null,
            "max_height": null,
            "max_width": null,
            "min_height": null,
            "min_width": null,
            "object_fit": null,
            "object_position": null,
            "order": null,
            "overflow": null,
            "overflow_x": null,
            "overflow_y": null,
            "padding": null,
            "right": null,
            "top": null,
            "visibility": null,
            "width": null
          }
        },
        "69a805a3a9c845588595a0677db8cdda": {
          "model_module": "@jupyter-widgets/controls",
          "model_name": "DescriptionStyleModel",
          "model_module_version": "1.5.0",
          "state": {
            "_model_module": "@jupyter-widgets/controls",
            "_model_module_version": "1.5.0",
            "_model_name": "DescriptionStyleModel",
            "_view_count": null,
            "_view_module": "@jupyter-widgets/base",
            "_view_module_version": "1.2.0",
            "_view_name": "StyleView",
            "description_width": ""
          }
        }
      }
    }
  },
  "cells": [
    {
      "cell_type": "markdown",
      "source": [
        "\n",
        "#Sarcasm Detection on Airline Reviews - Data Preprocessing\n",
        "\n",
        "This notebook demonstrates the steps for preprocessing a dataset for sarcasm detection in Airline Reviews using deep learning. The preprocessing steps include loading the dataset, cleaning the data, and preparing the data for model training.\n",
        "\n",
        "#Dataset Overview\n",
        "We are using a dataset of YouTube comments which contains the following columns:\n",
        "\n",
        "`Review`: The text of the YouTube comment.\n",
        "\n",
        "`sarcasm`: The target label indicating whether the comment is sarcastic (1) or not (0).\n",
        "\n",
        "\n",
        "Additional features related to airline information.\n",
        "\n",
        "Let's load the dataset and take a look at its structure."
      ],
      "metadata": {
        "id": "KABO6UFsHrjD"
      }
    },
    {
      "cell_type": "code",
      "source": [
        "from google.colab import drive\n",
        "drive.mount('/content/drive')\n"
      ],
      "metadata": {
        "colab": {
          "base_uri": "https://localhost:8080/"
        },
        "id": "NY6gPFql6Pk2",
        "outputId": "0e8f35fc-07b0-4a04-9d4b-0b613030137a"
      },
      "execution_count": 1,
      "outputs": [
        {
          "output_type": "stream",
          "name": "stdout",
          "text": [
            "Mounted at /content/drive\n"
          ]
        }
      ]
    },
    {
      "cell_type": "code",
      "source": [
        "import pandas as pd\n",
        "import seaborn as sns\n",
        "import matplotlib.pyplot as plt\n",
        "\n",
        "# Replace with the path to your file in Google Drive\n",
        "file_path = '/content/drive/My Drive/Airline_Reviews_Labeled.csv'\n",
        "df = pd.read_csv(file_path)\n",
        "\n",
        "\n",
        "# Display basic information about the dataset\n",
        "print(\"Dataset Info:\")\n",
        "print(df.info())\n"
      ],
      "metadata": {
        "colab": {
          "base_uri": "https://localhost:8080/"
        },
        "id": "V_ANtfkS6TZA",
        "outputId": "342dd4ce-8fa1-475c-fcbf-1b510ef17746"
      },
      "execution_count": 2,
      "outputs": [
        {
          "output_type": "stream",
          "name": "stdout",
          "text": [
            "Dataset Info:\n",
            "<class 'pandas.core.frame.DataFrame'>\n",
            "RangeIndex: 23171 entries, 0 to 23170\n",
            "Data columns (total 21 columns):\n",
            " #   Column                  Non-Null Count  Dtype  \n",
            "---  ------                  --------------  -----  \n",
            " 0   Unnamed: 0              23171 non-null  int64  \n",
            " 1   Airline Name            23171 non-null  object \n",
            " 2   Overall_Rating          23171 non-null  object \n",
            " 3   Review_Title            23171 non-null  object \n",
            " 4   Review Date             23171 non-null  object \n",
            " 5   Verified                23171 non-null  bool   \n",
            " 6   Review                  23171 non-null  object \n",
            " 7   Aircraft                7129 non-null   object \n",
            " 8   Type Of Traveller       19433 non-null  object \n",
            " 9   Seat Type               22075 non-null  object \n",
            " 10  Route                   19343 non-null  object \n",
            " 11  Date Flown              19417 non-null  object \n",
            " 12  Seat Comfort            19016 non-null  float64\n",
            " 13  Cabin Staff Service     18911 non-null  float64\n",
            " 14  Food & Beverages        14500 non-null  float64\n",
            " 15  Ground Service          18378 non-null  float64\n",
            " 16  Inflight Entertainment  10829 non-null  float64\n",
            " 17  Wifi & Connectivity     5920 non-null   float64\n",
            " 18  Value For Money         22105 non-null  float64\n",
            " 19  Recommended             23171 non-null  object \n",
            " 20  sarcasm                 23171 non-null  int64  \n",
            "dtypes: bool(1), float64(7), int64(2), object(11)\n",
            "memory usage: 3.6+ MB\n",
            "None\n"
          ]
        }
      ]
    },
    {
      "cell_type": "code",
      "source": [
        "# Randomly sample 8000 records\n",
        "df_sampled = df.sample(n=8000, random_state=42)\n",
        "\n",
        "# Save the sampled dataset to a new CSV file\n",
        "df_sampled.to_csv('sampled_dataset.csv', index=False)\n"
      ],
      "metadata": {
        "id": "KSW0AGuPQgOe"
      },
      "execution_count": 3,
      "outputs": []
    },
    {
      "cell_type": "code",
      "source": [
        "# Check for missing values\n",
        "print(\"\\nMissing Values:\")\n",
        "print(df.isnull().sum())"
      ],
      "metadata": {
        "colab": {
          "base_uri": "https://localhost:8080/"
        },
        "id": "lLcA6MbNbrn_",
        "outputId": "1d0bab5e-cdb9-43e5-eb93-3d406d26987b"
      },
      "execution_count": 4,
      "outputs": [
        {
          "output_type": "stream",
          "name": "stdout",
          "text": [
            "\n",
            "Missing Values:\n",
            "Unnamed: 0                    0\n",
            "Airline Name                  0\n",
            "Overall_Rating                0\n",
            "Review_Title                  0\n",
            "Review Date                   0\n",
            "Verified                      0\n",
            "Review                        0\n",
            "Aircraft                  16042\n",
            "Type Of Traveller          3738\n",
            "Seat Type                  1096\n",
            "Route                      3828\n",
            "Date Flown                 3754\n",
            "Seat Comfort               4155\n",
            "Cabin Staff Service        4260\n",
            "Food & Beverages           8671\n",
            "Ground Service             4793\n",
            "Inflight Entertainment    12342\n",
            "Wifi & Connectivity       17251\n",
            "Value For Money            1066\n",
            "Recommended                   0\n",
            "sarcasm                       0\n",
            "dtype: int64\n"
          ]
        }
      ]
    },
    {
      "cell_type": "code",
      "source": [
        "# List of columns to drop\n",
        "columns_to_drop = [\n",
        "    'Unnamed: 0','Airline Name','Overall_Rating','Review_Title','Review Date',\n",
        "    'Verified','Aircraft','Type Of Traveller','Route', 'Seat Type', 'Date Flown',\n",
        "    'Seat Comfort','Cabin Staff Service', 'Food & Beverages',\n",
        "    'Ground Service', 'Inflight Entertainment',\n",
        "    'Wifi & Connectivity', 'Value For Money','Recommended',\n",
        "    ]\n",
        "# Drop the specified columns\n",
        "df = df_sampled.drop(columns=columns_to_drop)\n",
        "\n",
        "# Display the first few rows of the updated DataFrame\n",
        "print(df.head())"
      ],
      "metadata": {
        "colab": {
          "base_uri": "https://localhost:8080/"
        },
        "id": "z1o3YjIcspdp",
        "outputId": "7638be45-dafe-440a-cfb1-58b7ed52cadf"
      },
      "execution_count": 5,
      "outputs": [
        {
          "output_type": "stream",
          "name": "stdout",
          "text": [
            "                                                  Review  sarcasm\n",
            "17155    Tel Aviv to Amman. We had a short flight to ...        1\n",
            "10119    Flight got delayed when I was flying to DR f...        1\n",
            "18821   Flying alone, my 14 year old daughter’s fligh...        1\n",
            "10628    Pune to Delhi. This airline misleads it’s cu...        1\n",
            "2188    I fly this route from Malta to Amsterdam almo...        1\n"
          ]
        }
      ]
    },
    {
      "cell_type": "code",
      "source": [
        "df.head()"
      ],
      "metadata": {
        "colab": {
          "base_uri": "https://localhost:8080/",
          "height": 206
        },
        "id": "-iWnzdgXrpDf",
        "outputId": "272f7e2a-44e6-4394-f11a-9b087d75d4c9"
      },
      "execution_count": 6,
      "outputs": [
        {
          "output_type": "execute_result",
          "data": {
            "text/plain": [
              "                                                  Review  sarcasm\n",
              "17155    Tel Aviv to Amman. We had a short flight to ...        1\n",
              "10119    Flight got delayed when I was flying to DR f...        1\n",
              "18821   Flying alone, my 14 year old daughter’s fligh...        1\n",
              "10628    Pune to Delhi. This airline misleads it’s cu...        1\n",
              "2188    I fly this route from Malta to Amsterdam almo...        1"
            ],
            "text/html": [
              "\n",
              "  <div id=\"df-97c59769-7d91-4bac-bde2-cb39dcfd250f\" class=\"colab-df-container\">\n",
              "    <div>\n",
              "<style scoped>\n",
              "    .dataframe tbody tr th:only-of-type {\n",
              "        vertical-align: middle;\n",
              "    }\n",
              "\n",
              "    .dataframe tbody tr th {\n",
              "        vertical-align: top;\n",
              "    }\n",
              "\n",
              "    .dataframe thead th {\n",
              "        text-align: right;\n",
              "    }\n",
              "</style>\n",
              "<table border=\"1\" class=\"dataframe\">\n",
              "  <thead>\n",
              "    <tr style=\"text-align: right;\">\n",
              "      <th></th>\n",
              "      <th>Review</th>\n",
              "      <th>sarcasm</th>\n",
              "    </tr>\n",
              "  </thead>\n",
              "  <tbody>\n",
              "    <tr>\n",
              "      <th>17155</th>\n",
              "      <td>Tel Aviv to Amman. We had a short flight to ...</td>\n",
              "      <td>1</td>\n",
              "    </tr>\n",
              "    <tr>\n",
              "      <th>10119</th>\n",
              "      <td>Flight got delayed when I was flying to DR f...</td>\n",
              "      <td>1</td>\n",
              "    </tr>\n",
              "    <tr>\n",
              "      <th>18821</th>\n",
              "      <td>Flying alone, my 14 year old daughter’s fligh...</td>\n",
              "      <td>1</td>\n",
              "    </tr>\n",
              "    <tr>\n",
              "      <th>10628</th>\n",
              "      <td>Pune to Delhi. This airline misleads it’s cu...</td>\n",
              "      <td>1</td>\n",
              "    </tr>\n",
              "    <tr>\n",
              "      <th>2188</th>\n",
              "      <td>I fly this route from Malta to Amsterdam almo...</td>\n",
              "      <td>1</td>\n",
              "    </tr>\n",
              "  </tbody>\n",
              "</table>\n",
              "</div>\n",
              "    <div class=\"colab-df-buttons\">\n",
              "\n",
              "  <div class=\"colab-df-container\">\n",
              "    <button class=\"colab-df-convert\" onclick=\"convertToInteractive('df-97c59769-7d91-4bac-bde2-cb39dcfd250f')\"\n",
              "            title=\"Convert this dataframe to an interactive table.\"\n",
              "            style=\"display:none;\">\n",
              "\n",
              "  <svg xmlns=\"http://www.w3.org/2000/svg\" height=\"24px\" viewBox=\"0 -960 960 960\">\n",
              "    <path d=\"M120-120v-720h720v720H120Zm60-500h600v-160H180v160Zm220 220h160v-160H400v160Zm0 220h160v-160H400v160ZM180-400h160v-160H180v160Zm440 0h160v-160H620v160ZM180-180h160v-160H180v160Zm440 0h160v-160H620v160Z\"/>\n",
              "  </svg>\n",
              "    </button>\n",
              "\n",
              "  <style>\n",
              "    .colab-df-container {\n",
              "      display:flex;\n",
              "      gap: 12px;\n",
              "    }\n",
              "\n",
              "    .colab-df-convert {\n",
              "      background-color: #E8F0FE;\n",
              "      border: none;\n",
              "      border-radius: 50%;\n",
              "      cursor: pointer;\n",
              "      display: none;\n",
              "      fill: #1967D2;\n",
              "      height: 32px;\n",
              "      padding: 0 0 0 0;\n",
              "      width: 32px;\n",
              "    }\n",
              "\n",
              "    .colab-df-convert:hover {\n",
              "      background-color: #E2EBFA;\n",
              "      box-shadow: 0px 1px 2px rgba(60, 64, 67, 0.3), 0px 1px 3px 1px rgba(60, 64, 67, 0.15);\n",
              "      fill: #174EA6;\n",
              "    }\n",
              "\n",
              "    .colab-df-buttons div {\n",
              "      margin-bottom: 4px;\n",
              "    }\n",
              "\n",
              "    [theme=dark] .colab-df-convert {\n",
              "      background-color: #3B4455;\n",
              "      fill: #D2E3FC;\n",
              "    }\n",
              "\n",
              "    [theme=dark] .colab-df-convert:hover {\n",
              "      background-color: #434B5C;\n",
              "      box-shadow: 0px 1px 3px 1px rgba(0, 0, 0, 0.15);\n",
              "      filter: drop-shadow(0px 1px 2px rgba(0, 0, 0, 0.3));\n",
              "      fill: #FFFFFF;\n",
              "    }\n",
              "  </style>\n",
              "\n",
              "    <script>\n",
              "      const buttonEl =\n",
              "        document.querySelector('#df-97c59769-7d91-4bac-bde2-cb39dcfd250f button.colab-df-convert');\n",
              "      buttonEl.style.display =\n",
              "        google.colab.kernel.accessAllowed ? 'block' : 'none';\n",
              "\n",
              "      async function convertToInteractive(key) {\n",
              "        const element = document.querySelector('#df-97c59769-7d91-4bac-bde2-cb39dcfd250f');\n",
              "        const dataTable =\n",
              "          await google.colab.kernel.invokeFunction('convertToInteractive',\n",
              "                                                    [key], {});\n",
              "        if (!dataTable) return;\n",
              "\n",
              "        const docLinkHtml = 'Like what you see? Visit the ' +\n",
              "          '<a target=\"_blank\" href=https://colab.research.google.com/notebooks/data_table.ipynb>data table notebook</a>'\n",
              "          + ' to learn more about interactive tables.';\n",
              "        element.innerHTML = '';\n",
              "        dataTable['output_type'] = 'display_data';\n",
              "        await google.colab.output.renderOutput(dataTable, element);\n",
              "        const docLink = document.createElement('div');\n",
              "        docLink.innerHTML = docLinkHtml;\n",
              "        element.appendChild(docLink);\n",
              "      }\n",
              "    </script>\n",
              "  </div>\n",
              "\n",
              "\n",
              "<div id=\"df-f4ce59df-ce6b-4020-94a3-69e7a04f4a1e\">\n",
              "  <button class=\"colab-df-quickchart\" onclick=\"quickchart('df-f4ce59df-ce6b-4020-94a3-69e7a04f4a1e')\"\n",
              "            title=\"Suggest charts\"\n",
              "            style=\"display:none;\">\n",
              "\n",
              "<svg xmlns=\"http://www.w3.org/2000/svg\" height=\"24px\"viewBox=\"0 0 24 24\"\n",
              "     width=\"24px\">\n",
              "    <g>\n",
              "        <path d=\"M19 3H5c-1.1 0-2 .9-2 2v14c0 1.1.9 2 2 2h14c1.1 0 2-.9 2-2V5c0-1.1-.9-2-2-2zM9 17H7v-7h2v7zm4 0h-2V7h2v10zm4 0h-2v-4h2v4z\"/>\n",
              "    </g>\n",
              "</svg>\n",
              "  </button>\n",
              "\n",
              "<style>\n",
              "  .colab-df-quickchart {\n",
              "      --bg-color: #E8F0FE;\n",
              "      --fill-color: #1967D2;\n",
              "      --hover-bg-color: #E2EBFA;\n",
              "      --hover-fill-color: #174EA6;\n",
              "      --disabled-fill-color: #AAA;\n",
              "      --disabled-bg-color: #DDD;\n",
              "  }\n",
              "\n",
              "  [theme=dark] .colab-df-quickchart {\n",
              "      --bg-color: #3B4455;\n",
              "      --fill-color: #D2E3FC;\n",
              "      --hover-bg-color: #434B5C;\n",
              "      --hover-fill-color: #FFFFFF;\n",
              "      --disabled-bg-color: #3B4455;\n",
              "      --disabled-fill-color: #666;\n",
              "  }\n",
              "\n",
              "  .colab-df-quickchart {\n",
              "    background-color: var(--bg-color);\n",
              "    border: none;\n",
              "    border-radius: 50%;\n",
              "    cursor: pointer;\n",
              "    display: none;\n",
              "    fill: var(--fill-color);\n",
              "    height: 32px;\n",
              "    padding: 0;\n",
              "    width: 32px;\n",
              "  }\n",
              "\n",
              "  .colab-df-quickchart:hover {\n",
              "    background-color: var(--hover-bg-color);\n",
              "    box-shadow: 0 1px 2px rgba(60, 64, 67, 0.3), 0 1px 3px 1px rgba(60, 64, 67, 0.15);\n",
              "    fill: var(--button-hover-fill-color);\n",
              "  }\n",
              "\n",
              "  .colab-df-quickchart-complete:disabled,\n",
              "  .colab-df-quickchart-complete:disabled:hover {\n",
              "    background-color: var(--disabled-bg-color);\n",
              "    fill: var(--disabled-fill-color);\n",
              "    box-shadow: none;\n",
              "  }\n",
              "\n",
              "  .colab-df-spinner {\n",
              "    border: 2px solid var(--fill-color);\n",
              "    border-color: transparent;\n",
              "    border-bottom-color: var(--fill-color);\n",
              "    animation:\n",
              "      spin 1s steps(1) infinite;\n",
              "  }\n",
              "\n",
              "  @keyframes spin {\n",
              "    0% {\n",
              "      border-color: transparent;\n",
              "      border-bottom-color: var(--fill-color);\n",
              "      border-left-color: var(--fill-color);\n",
              "    }\n",
              "    20% {\n",
              "      border-color: transparent;\n",
              "      border-left-color: var(--fill-color);\n",
              "      border-top-color: var(--fill-color);\n",
              "    }\n",
              "    30% {\n",
              "      border-color: transparent;\n",
              "      border-left-color: var(--fill-color);\n",
              "      border-top-color: var(--fill-color);\n",
              "      border-right-color: var(--fill-color);\n",
              "    }\n",
              "    40% {\n",
              "      border-color: transparent;\n",
              "      border-right-color: var(--fill-color);\n",
              "      border-top-color: var(--fill-color);\n",
              "    }\n",
              "    60% {\n",
              "      border-color: transparent;\n",
              "      border-right-color: var(--fill-color);\n",
              "    }\n",
              "    80% {\n",
              "      border-color: transparent;\n",
              "      border-right-color: var(--fill-color);\n",
              "      border-bottom-color: var(--fill-color);\n",
              "    }\n",
              "    90% {\n",
              "      border-color: transparent;\n",
              "      border-bottom-color: var(--fill-color);\n",
              "    }\n",
              "  }\n",
              "</style>\n",
              "\n",
              "  <script>\n",
              "    async function quickchart(key) {\n",
              "      const quickchartButtonEl =\n",
              "        document.querySelector('#' + key + ' button');\n",
              "      quickchartButtonEl.disabled = true;  // To prevent multiple clicks.\n",
              "      quickchartButtonEl.classList.add('colab-df-spinner');\n",
              "      try {\n",
              "        const charts = await google.colab.kernel.invokeFunction(\n",
              "            'suggestCharts', [key], {});\n",
              "      } catch (error) {\n",
              "        console.error('Error during call to suggestCharts:', error);\n",
              "      }\n",
              "      quickchartButtonEl.classList.remove('colab-df-spinner');\n",
              "      quickchartButtonEl.classList.add('colab-df-quickchart-complete');\n",
              "    }\n",
              "    (() => {\n",
              "      let quickchartButtonEl =\n",
              "        document.querySelector('#df-f4ce59df-ce6b-4020-94a3-69e7a04f4a1e button');\n",
              "      quickchartButtonEl.style.display =\n",
              "        google.colab.kernel.accessAllowed ? 'block' : 'none';\n",
              "    })();\n",
              "  </script>\n",
              "</div>\n",
              "\n",
              "    </div>\n",
              "  </div>\n"
            ],
            "application/vnd.google.colaboratory.intrinsic+json": {
              "type": "dataframe",
              "variable_name": "df",
              "summary": "{\n  \"name\": \"df\",\n  \"rows\": 8000,\n  \"fields\": [\n    {\n      \"column\": \"Review\",\n      \"properties\": {\n        \"dtype\": \"string\",\n        \"num_unique_values\": 7990,\n        \"samples\": [\n          \"Business class in a LAN Airlines Boeing 787, from Frankfurt to Madrid. Although they don't have a lounge in Frankfurt, we were able to use the new Air Canada lounge. There wasn't any lack of good food, all kinds of drinks and entertainment. The same in Madrid, using the Iberia one. Onboard the staff were taking care of all our requests. We were served a welcoming drink (pisco or sparkling wine) a very light salad and smoked ham with some of the best chilean wines. The pilot gave information about the flight, landing times, connection flights and so on. I must say I had the opportunity to fly them from Santiago to Easter island, 2 months later, in the same aircraft but this time economy and all I could say it was that except the food, which was average (not the wine and Cafe Juan Valdez) the experience was same as pleasent as the business one. \",\n          \" As usual Bangkok Airways never disappoints. The fare is very affordable, checking in a luggage is free, the lounge is free food and WiFi. The airplane looks very clean and sharp, the staff are all smiles, relaxed and very friendly. This is my favorite airline in south asia. I love it.\",\n          \"  They lost my baggage as there was no one to help you at the carousel I tried asking multiple officers and other officials all were looking for the El Al associates who just didn\\u2019t care to show up today. Barely missed my flight to Boston all because these people working this airline can\\u2019t figure it out.\"\n        ],\n        \"semantic_type\": \"\",\n        \"description\": \"\"\n      }\n    },\n    {\n      \"column\": \"sarcasm\",\n      \"properties\": {\n        \"dtype\": \"number\",\n        \"std\": 0,\n        \"min\": 0,\n        \"max\": 1,\n        \"num_unique_values\": 2,\n        \"samples\": [\n          0,\n          1\n        ],\n        \"semantic_type\": \"\",\n        \"description\": \"\"\n      }\n    }\n  ]\n}"
            }
          },
          "metadata": {},
          "execution_count": 6
        }
      ]
    },
    {
      "cell_type": "code",
      "source": [
        "# Describe the dataset to get an overview of numerical features\n",
        "print(\"\\nDataset Description:\")\n",
        "print(df.describe())"
      ],
      "metadata": {
        "colab": {
          "base_uri": "https://localhost:8080/"
        },
        "id": "W89sf9356d6g",
        "outputId": "5dbf9d54-b4d9-4758-eeca-9fb3b6616464"
      },
      "execution_count": 7,
      "outputs": [
        {
          "output_type": "stream",
          "name": "stdout",
          "text": [
            "\n",
            "Dataset Description:\n",
            "           sarcasm\n",
            "count  8000.000000\n",
            "mean      0.713125\n",
            "std       0.452331\n",
            "min       0.000000\n",
            "25%       0.000000\n",
            "50%       1.000000\n",
            "75%       1.000000\n",
            "max       1.000000\n"
          ]
        }
      ]
    },
    {
      "cell_type": "code",
      "source": [
        "df.shape"
      ],
      "metadata": {
        "colab": {
          "base_uri": "https://localhost:8080/"
        },
        "id": "o9MSQlpkrBtU",
        "outputId": "32b2a016-0091-49c5-c476-689935c8d80b"
      },
      "execution_count": 8,
      "outputs": [
        {
          "output_type": "execute_result",
          "data": {
            "text/plain": [
              "(8000, 2)"
            ]
          },
          "metadata": {},
          "execution_count": 8
        }
      ]
    },
    {
      "cell_type": "code",
      "source": [
        "df.duplicated().sum()"
      ],
      "metadata": {
        "colab": {
          "base_uri": "https://localhost:8080/"
        },
        "id": "VUuMDQbXrFGM",
        "outputId": "c0de02d6-54b9-4a2a-f667-98edbb3642ab"
      },
      "execution_count": 9,
      "outputs": [
        {
          "output_type": "execute_result",
          "data": {
            "text/plain": [
              "10"
            ]
          },
          "metadata": {},
          "execution_count": 9
        }
      ]
    },
    {
      "cell_type": "code",
      "source": [
        "# Remove duplicates\n",
        "df_no_duplicates = df.drop_duplicates()\n",
        "\n",
        "# Display the DataFrame after removing duplicates\n",
        "print(\"\\nDataFrame after removing duplicates:\")\n",
        "print(df_no_duplicates)\n",
        "df = df_no_duplicates"
      ],
      "metadata": {
        "colab": {
          "base_uri": "https://localhost:8080/"
        },
        "id": "Gu9ohBq8cSMm",
        "outputId": "c9729497-54a4-477e-9e5a-2183529768ba"
      },
      "execution_count": 10,
      "outputs": [
        {
          "output_type": "stream",
          "name": "stdout",
          "text": [
            "\n",
            "DataFrame after removing duplicates:\n",
            "                                                  Review  sarcasm\n",
            "17155    Tel Aviv to Amman. We had a short flight to ...        1\n",
            "10119    Flight got delayed when I was flying to DR f...        1\n",
            "18821   Flying alone, my 14 year old daughter’s fligh...        1\n",
            "10628    Pune to Delhi. This airline misleads it’s cu...        1\n",
            "2188    I fly this route from Malta to Amsterdam almo...        1\n",
            "...                                                  ...      ...\n",
            "8342     The flight was delayed for 2.5hrs, causing u...        1\n",
            "16264    They cancelled my flight and after delaying ...        1\n",
            "11056    Hong Kong to Chengdu. Hong Kong Airlines is ...        1\n",
            "16769    Horrible experience with REX Airlines. Tried...        1\n",
            "1496     The reviews prior to booking were a concern ...        0\n",
            "\n",
            "[7990 rows x 2 columns]\n"
          ]
        }
      ]
    },
    {
      "cell_type": "markdown",
      "source": [
        "#Data Visualization"
      ],
      "metadata": {
        "id": "k0vwP6-vJeO9"
      }
    },
    {
      "cell_type": "code",
      "source": [
        "# Analyze the length of reviews\n",
        "df['review_length'] = df['Review'].apply(len)\n",
        "sns.histplot(df['review_length'], kde=True)\n",
        "plt.title('Distribution of Review Lengths')\n",
        "plt.show()"
      ],
      "metadata": {
        "colab": {
          "base_uri": "https://localhost:8080/",
          "height": 576
        },
        "id": "2AwkzVOz6mCH",
        "outputId": "43bcbf70-4edd-4c5e-e442-5966e17f163e"
      },
      "execution_count": 11,
      "outputs": [
        {
          "output_type": "stream",
          "name": "stderr",
          "text": [
            "<ipython-input-11-4f0f9ca27359>:2: SettingWithCopyWarning: \n",
            "A value is trying to be set on a copy of a slice from a DataFrame.\n",
            "Try using .loc[row_indexer,col_indexer] = value instead\n",
            "\n",
            "See the caveats in the documentation: https://pandas.pydata.org/pandas-docs/stable/user_guide/indexing.html#returning-a-view-versus-a-copy\n",
            "  df['review_length'] = df['Review'].apply(len)\n"
          ]
        },
        {
          "output_type": "display_data",
          "data": {
            "text/plain": [
              "<Figure size 640x480 with 1 Axes>"
            ],
            "image/png": "[encoded data removed]"
          },
          "metadata": {}
        }
      ]
    },
    {
      "cell_type": "code",
      "source": [
        "# Visualize the distribution of the target variable (sarcasm labels)\n",
        "sns.countplot(x='sarcasm', data=df)\n",
        "plt.title('Distribution of Sarcasm Labels')\n",
        "plt.show()"
      ],
      "metadata": {
        "colab": {
          "base_uri": "https://localhost:8080/",
          "height": 472
        },
        "id": "ZHjaWbQx6iyu",
        "outputId": "d2b764f7-7919-4cc7-8104-82208ccb9f6b"
      },
      "execution_count": 12,
      "outputs": [
        {
          "output_type": "display_data",
          "data": {
            "text/plain": [
              "<Figure size 640x480 with 1 Axes>"
            ],
            "image/png": "[encoded data removed]"
          },
          "metadata": {}
        }
      ]
    },
    {
      "cell_type": "markdown",
      "source": [
        "#Data cleaning\n",
        "\n",
        "This involves cleaning the review by removing hashtags, mentions, URLs etc."
      ],
      "metadata": {
        "id": "PiKLCzOcJuQ_"
      }
    },
    {
      "cell_type": "code",
      "source": [
        "import pandas as pd\n",
        "import seaborn as sns\n",
        "import matplotlib.pyplot as plt\n",
        "import re\n",
        "from bs4 import BeautifulSoup\n",
        "import nltk\n",
        "from nltk.corpus import stopwords\n",
        "from nltk.tokenize import word_tokenize\n",
        "from nltk.stem import WordNetLemmatizer\n",
        "\n",
        "# Ensure necessary NLTK data packages are downloaded\n",
        "nltk.download('stopwords')\n",
        "nltk.download('punkt')\n",
        "nltk.download('wordnet')"
      ],
      "metadata": {
        "colab": {
          "base_uri": "https://localhost:8080/"
        },
        "id": "e4evAajV7TIm",
        "outputId": "70c760e4-b2ae-43bf-df98-2214a3384ba5"
      },
      "execution_count": 13,
      "outputs": [
        {
          "output_type": "stream",
          "name": "stderr",
          "text": [
            "[nltk_data] Downloading package stopwords to /root/nltk_data...\n",
            "[nltk_data]   Unzipping corpora/stopwords.zip.\n",
            "[nltk_data] Downloading package punkt to /root/nltk_data...\n",
            "[nltk_data]   Unzipping tokenizers/punkt.zip.\n",
            "[nltk_data] Downloading package wordnet to /root/nltk_data...\n"
          ]
        },
        {
          "output_type": "execute_result",
          "data": {
            "text/plain": [
              "True"
            ]
          },
          "metadata": {},
          "execution_count": 13
        }
      ]
    },
    {
      "cell_type": "code",
      "execution_count": 14,
      "metadata": {
        "id": "IrPEggR_5Mix"
      },
      "outputs": [],
      "source": [
        "# Text Cleaning\n",
        "def clean_text(text):\n",
        "    text = BeautifulSoup(text, \"html.parser\").get_text()  # Remove HTML tags\n",
        "    text = re.sub(r\"http\\S+|www\\S+|https\\S+\", '', text, flags=re.MULTILINE)  # Remove URLs\n",
        "    text = re.sub(r'\\@w+|\\#','', text)  # Remove mentions and hashtags\n",
        "    text = re.sub(r'[^A-Za-z0-9]+', ' ', text)  # Remove special characters\n",
        "    text = text.lower()  # Convert to lowercase\n",
        "    return text"
      ]
    },
    {
      "cell_type": "markdown",
      "source": [
        "Tried different tokenizaton and text encoding methods.\n",
        "\n",
        "A. word Tokenization, Sentence Tokenization, Subword Tokenization, Character Tokenization.\n",
        "\n",
        "B. Word2Vec, TF-IDF and FastText Embeddings."
      ],
      "metadata": {
        "id": "BSDwQoaYQnNJ"
      }
    },
    {
      "cell_type": "markdown",
      "source": [
        "#Preprocessing steps\n",
        "\n",
        "A. Word Tokenization\n",
        "\n",
        "1. Tokenization\n",
        "2. Stop Words Removal\n",
        "2. Lemmatization\n",
        "5. Label Encoding\n",
        "6. Word2Vec with word tokenization\n",
        "\n"
      ],
      "metadata": {
        "id": "XXo3PRRAKor_"
      }
    },
    {
      "cell_type": "code",
      "source": [
        "df['cleaned_review'] = df['Review'].apply(clean_text)\n",
        "# Tokenization\n",
        "df['tokens'] = df['cleaned_review'].apply(word_tokenize)"
      ],
      "metadata": {
        "colab": {
          "base_uri": "https://localhost:8080/"
        },
        "id": "vKAWAC2c75yc",
        "outputId": "a4753155-30a0-41b0-a3f7-d1e15e66bbb2"
      },
      "execution_count": 15,
      "outputs": [
        {
          "output_type": "stream",
          "name": "stderr",
          "text": [
            "<ipython-input-14-153936503a16>:3: MarkupResemblesLocatorWarning: The input looks more like a filename than markup. You may want to open this file and pass the filehandle into Beautiful Soup.\n",
            "  text = BeautifulSoup(text, \"html.parser\").get_text()  # Remove HTML tags\n"
          ]
        }
      ]
    },
    {
      "cell_type": "code",
      "source": [
        "# Stop Words Removal\n",
        "stop_words = set(stopwords.words('english'))\n",
        "df['tokens'] = df['tokens'].apply(lambda x: [word for word in x if word not in stop_words])"
      ],
      "metadata": {
        "id": "CjWcK89L7uvo"
      },
      "execution_count": 16,
      "outputs": []
    },
    {
      "cell_type": "code",
      "source": [
        "# Lemmatization\n",
        "lemmatizer = WordNetLemmatizer()\n",
        "df['lemmatized_tokens'] = df['tokens'].apply(lambda x: [lemmatizer.lemmatize(word) for word in x])"
      ],
      "metadata": {
        "id": "p6rF81sG8HTj"
      },
      "execution_count": 17,
      "outputs": []
    },
    {
      "cell_type": "code",
      "source": [
        "# Join lemmatized tokens back into a string\n",
        "df['final_review'] = df['lemmatized_tokens'].apply(lambda x: ' '.join(x))"
      ],
      "metadata": {
        "id": "EJKmsI1IosPT"
      },
      "execution_count": 18,
      "outputs": []
    },
    {
      "cell_type": "code",
      "source": [
        "# Feature Engineering\n",
        "df['review_length'] = df['cleaned_review'].apply(len)\n",
        "df['num_exclamations'] = df['cleaned_review'].apply(lambda x: x.count('!'))"
      ],
      "metadata": {
        "id": "ZCbEy6Hi8OAS"
      },
      "execution_count": 19,
      "outputs": []
    },
    {
      "cell_type": "code",
      "source": [
        "from sklearn.preprocessing import LabelEncoder\n",
        "\n",
        "le = LabelEncoder()\n",
        "df['Sarcasm_encoded'] = le.fit_transform(df['sarcasm'])"
      ],
      "metadata": {
        "id": "bYfbVWGFqVJd"
      },
      "execution_count": 20,
      "outputs": []
    },
    {
      "cell_type": "code",
      "source": [
        "df.head()"
      ],
      "metadata": {
        "colab": {
          "base_uri": "https://localhost:8080/",
          "height": 553
        },
        "id": "n3lXguNOq2bI",
        "outputId": "4f62835a-89af-4ae4-9da9-a4a7f293b2d1"
      },
      "execution_count": 21,
      "outputs": [
        {
          "output_type": "execute_result",
          "data": {
            "text/plain": [
              "                                                  Review  sarcasm  \\\n",
              "17155    Tel Aviv to Amman. We had a short flight to ...        1   \n",
              "10119    Flight got delayed when I was flying to DR f...        1   \n",
              "18821   Flying alone, my 14 year old daughter’s fligh...        1   \n",
              "10628    Pune to Delhi. This airline misleads it’s cu...        1   \n",
              "2188    I fly this route from Malta to Amsterdam almo...        1   \n",
              "\n",
              "       review_length                                     cleaned_review  \\\n",
              "17155            330   tel aviv to amman we had a short flight to co...   \n",
              "10119            660   flight got delayed when i was flying to dr fo...   \n",
              "18821            478   flying alone my 14 year old daughter s flight...   \n",
              "10628            411   pune to delhi this airline misleads it s cust...   \n",
              "2188             336   i fly this route from malta to amsterdam almo...   \n",
              "\n",
              "                                                  tokens  \\\n",
              "17155  [tel, aviv, amman, short, flight, connect, amm...   \n",
              "10119  [flight, got, delayed, flying, dr, hour, way, ...   \n",
              "18821  [flying, alone, 14, year, old, daughter, fligh...   \n",
              "10628  [pune, delhi, airline, misleads, customers, ex...   \n",
              "2188   [fly, route, malta, amsterdam, almost, every, ...   \n",
              "\n",
              "                                       lemmatized_tokens  \\\n",
              "17155  [tel, aviv, amman, short, flight, connect, amm...   \n",
              "10119  [flight, got, delayed, flying, dr, hour, way, ...   \n",
              "18821  [flying, alone, 14, year, old, daughter, fligh...   \n",
              "10628  [pune, delhi, airline, misleads, customer, exp...   \n",
              "2188   [fly, route, malta, amsterdam, almost, every, ...   \n",
              "\n",
              "                                            final_review  num_exclamations  \\\n",
              "17155  tel aviv amman short flight connect amman conn...                 0   \n",
              "10119  flight got delayed flying dr hour way back got...                 0   \n",
              "18821  flying alone 14 year old daughter flight cance...                 0   \n",
              "10628  pune delhi airline misleads customer experienc...                 0   \n",
              "2188   fly route malta amsterdam almost every week tr...                 0   \n",
              "\n",
              "       Sarcasm_encoded  \n",
              "17155                1  \n",
              "10119                1  \n",
              "18821                1  \n",
              "10628                1  \n",
              "2188                 1  "
            ],
            "text/html": [
              "\n",
              "  <div id=\"df-523c384c-ecef-489e-a7b0-a48f5978fc0e\" class=\"colab-df-container\">\n",
              "    <div>\n",
              "<style scoped>\n",
              "    .dataframe tbody tr th:only-of-type {\n",
              "        vertical-align: middle;\n",
              "    }\n",
              "\n",
              "    .dataframe tbody tr th {\n",
              "        vertical-align: top;\n",
              "    }\n",
              "\n",
              "    .dataframe thead th {\n",
              "        text-align: right;\n",
              "    }\n",
              "</style>\n",
              "<table border=\"1\" class=\"dataframe\">\n",
              "  <thead>\n",
              "    <tr style=\"text-align: right;\">\n",
              "      <th></th>\n",
              "      <th>Review</th>\n",
              "      <th>sarcasm</th>\n",
              "      <th>review_length</th>\n",
              "      <th>cleaned_review</th>\n",
              "      <th>tokens</th>\n",
              "      <th>lemmatized_tokens</th>\n",
              "      <th>final_review</th>\n",
              "      <th>num_exclamations</th>\n",
              "      <th>Sarcasm_encoded</th>\n",
              "    </tr>\n",
              "  </thead>\n",
              "  <tbody>\n",
              "    <tr>\n",
              "      <th>17155</th>\n",
              "      <td>Tel Aviv to Amman. We had a short flight to ...</td>\n",
              "      <td>1</td>\n",
              "      <td>330</td>\n",
              "      <td>tel aviv to amman we had a short flight to co...</td>\n",
              "      <td>[tel, aviv, amman, short, flight, connect, amm...</td>\n",
              "      <td>[tel, aviv, amman, short, flight, connect, amm...</td>\n",
              "      <td>tel aviv amman short flight connect amman conn...</td>\n",
              "      <td>0</td>\n",
              "      <td>1</td>\n",
              "    </tr>\n",
              "    <tr>\n",
              "      <th>10119</th>\n",
              "      <td>Flight got delayed when I was flying to DR f...</td>\n",
              "      <td>1</td>\n",
              "      <td>660</td>\n",
              "      <td>flight got delayed when i was flying to dr fo...</td>\n",
              "      <td>[flight, got, delayed, flying, dr, hour, way, ...</td>\n",
              "      <td>[flight, got, delayed, flying, dr, hour, way, ...</td>\n",
              "      <td>flight got delayed flying dr hour way back got...</td>\n",
              "      <td>0</td>\n",
              "      <td>1</td>\n",
              "    </tr>\n",
              "    <tr>\n",
              "      <th>18821</th>\n",
              "      <td>Flying alone, my 14 year old daughter’s fligh...</td>\n",
              "      <td>1</td>\n",
              "      <td>478</td>\n",
              "      <td>flying alone my 14 year old daughter s flight...</td>\n",
              "      <td>[flying, alone, 14, year, old, daughter, fligh...</td>\n",
              "      <td>[flying, alone, 14, year, old, daughter, fligh...</td>\n",
              "      <td>flying alone 14 year old daughter flight cance...</td>\n",
              "      <td>0</td>\n",
              "      <td>1</td>\n",
              "    </tr>\n",
              "    <tr>\n",
              "      <th>10628</th>\n",
              "      <td>Pune to Delhi. This airline misleads it’s cu...</td>\n",
              "      <td>1</td>\n",
              "      <td>411</td>\n",
              "      <td>pune to delhi this airline misleads it s cust...</td>\n",
              "      <td>[pune, delhi, airline, misleads, customers, ex...</td>\n",
              "      <td>[pune, delhi, airline, misleads, customer, exp...</td>\n",
              "      <td>pune delhi airline misleads customer experienc...</td>\n",
              "      <td>0</td>\n",
              "      <td>1</td>\n",
              "    </tr>\n",
              "    <tr>\n",
              "      <th>2188</th>\n",
              "      <td>I fly this route from Malta to Amsterdam almo...</td>\n",
              "      <td>1</td>\n",
              "      <td>336</td>\n",
              "      <td>i fly this route from malta to amsterdam almo...</td>\n",
              "      <td>[fly, route, malta, amsterdam, almost, every, ...</td>\n",
              "      <td>[fly, route, malta, amsterdam, almost, every, ...</td>\n",
              "      <td>fly route malta amsterdam almost every week tr...</td>\n",
              "      <td>0</td>\n",
              "      <td>1</td>\n",
              "    </tr>\n",
              "  </tbody>\n",
              "</table>\n",
              "</div>\n",
              "    <div class=\"colab-df-buttons\">\n",
              "\n",
              "  <div class=\"colab-df-container\">\n",
              "    <button class=\"colab-df-convert\" onclick=\"convertToInteractive('df-523c384c-ecef-489e-a7b0-a48f5978fc0e')\"\n",
              "            title=\"Convert this dataframe to an interactive table.\"\n",
              "            style=\"display:none;\">\n",
              "\n",
              "  <svg xmlns=\"http://www.w3.org/2000/svg\" height=\"24px\" viewBox=\"0 -960 960 960\">\n",
              "    <path d=\"M120-120v-720h720v720H120Zm60-500h600v-160H180v160Zm220 220h160v-160H400v160Zm0 220h160v-160H400v160ZM180-400h160v-160H180v160Zm440 0h160v-160H620v160ZM180-180h160v-160H180v160Zm440 0h160v-160H620v160Z\"/>\n",
              "  </svg>\n",
              "    </button>\n",
              "\n",
              "  <style>\n",
              "    .colab-df-container {\n",
              "      display:flex;\n",
              "      gap: 12px;\n",
              "    }\n",
              "\n",
              "    .colab-df-convert {\n",
              "      background-color: #E8F0FE;\n",
              "      border: none;\n",
              "      border-radius: 50%;\n",
              "      cursor: pointer;\n",
              "      display: none;\n",
              "      fill: #1967D2;\n",
              "      height: 32px;\n",
              "      padding: 0 0 0 0;\n",
              "      width: 32px;\n",
              "    }\n",
              "\n",
              "    .colab-df-convert:hover {\n",
              "      background-color: #E2EBFA;\n",
              "      box-shadow: 0px 1px 2px rgba(60, 64, 67, 0.3), 0px 1px 3px 1px rgba(60, 64, 67, 0.15);\n",
              "      fill: #174EA6;\n",
              "    }\n",
              "\n",
              "    .colab-df-buttons div {\n",
              "      margin-bottom: 4px;\n",
              "    }\n",
              "\n",
              "    [theme=dark] .colab-df-convert {\n",
              "      background-color: #3B4455;\n",
              "      fill: #D2E3FC;\n",
              "    }\n",
              "\n",
              "    [theme=dark] .colab-df-convert:hover {\n",
              "      background-color: #434B5C;\n",
              "      box-shadow: 0px 1px 3px 1px rgba(0, 0, 0, 0.15);\n",
              "      filter: drop-shadow(0px 1px 2px rgba(0, 0, 0, 0.3));\n",
              "      fill: #FFFFFF;\n",
              "    }\n",
              "  </style>\n",
              "\n",
              "    <script>\n",
              "      const buttonEl =\n",
              "        document.querySelector('#df-523c384c-ecef-489e-a7b0-a48f5978fc0e button.colab-df-convert');\n",
              "      buttonEl.style.display =\n",
              "        google.colab.kernel.accessAllowed ? 'block' : 'none';\n",
              "\n",
              "      async function convertToInteractive(key) {\n",
              "        const element = document.querySelector('#df-523c384c-ecef-489e-a7b0-a48f5978fc0e');\n",
              "        const dataTable =\n",
              "          await google.colab.kernel.invokeFunction('convertToInteractive',\n",
              "                                                    [key], {});\n",
              "        if (!dataTable) return;\n",
              "\n",
              "        const docLinkHtml = 'Like what you see? Visit the ' +\n",
              "          '<a target=\"_blank\" href=https://colab.research.google.com/notebooks/data_table.ipynb>data table notebook</a>'\n",
              "          + ' to learn more about interactive tables.';\n",
              "        element.innerHTML = '';\n",
              "        dataTable['output_type'] = 'display_data';\n",
              "        await google.colab.output.renderOutput(dataTable, element);\n",
              "        const docLink = document.createElement('div');\n",
              "        docLink.innerHTML = docLinkHtml;\n",
              "        element.appendChild(docLink);\n",
              "      }\n",
              "    </script>\n",
              "  </div>\n",
              "\n",
              "\n",
              "<div id=\"df-ce4881a1-6b91-461c-9abb-c38d4f830ae5\">\n",
              "  <button class=\"colab-df-quickchart\" onclick=\"quickchart('df-ce4881a1-6b91-461c-9abb-c38d4f830ae5')\"\n",
              "            title=\"Suggest charts\"\n",
              "            style=\"display:none;\">\n",
              "\n",
              "<svg xmlns=\"http://www.w3.org/2000/svg\" height=\"24px\"viewBox=\"0 0 24 24\"\n",
              "     width=\"24px\">\n",
              "    <g>\n",
              "        <path d=\"M19 3H5c-1.1 0-2 .9-2 2v14c0 1.1.9 2 2 2h14c1.1 0 2-.9 2-2V5c0-1.1-.9-2-2-2zM9 17H7v-7h2v7zm4 0h-2V7h2v10zm4 0h-2v-4h2v4z\"/>\n",
              "    </g>\n",
              "</svg>\n",
              "  </button>\n",
              "\n",
              "<style>\n",
              "  .colab-df-quickchart {\n",
              "      --bg-color: #E8F0FE;\n",
              "      --fill-color: #1967D2;\n",
              "      --hover-bg-color: #E2EBFA;\n",
              "      --hover-fill-color: #174EA6;\n",
              "      --disabled-fill-color: #AAA;\n",
              "      --disabled-bg-color: #DDD;\n",
              "  }\n",
              "\n",
              "  [theme=dark] .colab-df-quickchart {\n",
              "      --bg-color: #3B4455;\n",
              "      --fill-color: #D2E3FC;\n",
              "      --hover-bg-color: #434B5C;\n",
              "      --hover-fill-color: #FFFFFF;\n",
              "      --disabled-bg-color: #3B4455;\n",
              "      --disabled-fill-color: #666;\n",
              "  }\n",
              "\n",
              "  .colab-df-quickchart {\n",
              "    background-color: var(--bg-color);\n",
              "    border: none;\n",
              "    border-radius: 50%;\n",
              "    cursor: pointer;\n",
              "    display: none;\n",
              "    fill: var(--fill-color);\n",
              "    height: 32px;\n",
              "    padding: 0;\n",
              "    width: 32px;\n",
              "  }\n",
              "\n",
              "  .colab-df-quickchart:hover {\n",
              "    background-color: var(--hover-bg-color);\n",
              "    box-shadow: 0 1px 2px rgba(60, 64, 67, 0.3), 0 1px 3px 1px rgba(60, 64, 67, 0.15);\n",
              "    fill: var(--button-hover-fill-color);\n",
              "  }\n",
              "\n",
              "  .colab-df-quickchart-complete:disabled,\n",
              "  .colab-df-quickchart-complete:disabled:hover {\n",
              "    background-color: var(--disabled-bg-color);\n",
              "    fill: var(--disabled-fill-color);\n",
              "    box-shadow: none;\n",
              "  }\n",
              "\n",
              "  .colab-df-spinner {\n",
              "    border: 2px solid var(--fill-color);\n",
              "    border-color: transparent;\n",
              "    border-bottom-color: var(--fill-color);\n",
              "    animation:\n",
              "      spin 1s steps(1) infinite;\n",
              "  }\n",
              "\n",
              "  @keyframes spin {\n",
              "    0% {\n",
              "      border-color: transparent;\n",
              "      border-bottom-color: var(--fill-color);\n",
              "      border-left-color: var(--fill-color);\n",
              "    }\n",
              "    20% {\n",
              "      border-color: transparent;\n",
              "      border-left-color: var(--fill-color);\n",
              "      border-top-color: var(--fill-color);\n",
              "    }\n",
              "    30% {\n",
              "      border-color: transparent;\n",
              "      border-left-color: var(--fill-color);\n",
              "      border-top-color: var(--fill-color);\n",
              "      border-right-color: var(--fill-color);\n",
              "    }\n",
              "    40% {\n",
              "      border-color: transparent;\n",
              "      border-right-color: var(--fill-color);\n",
              "      border-top-color: var(--fill-color);\n",
              "    }\n",
              "    60% {\n",
              "      border-color: transparent;\n",
              "      border-right-color: var(--fill-color);\n",
              "    }\n",
              "    80% {\n",
              "      border-color: transparent;\n",
              "      border-right-color: var(--fill-color);\n",
              "      border-bottom-color: var(--fill-color);\n",
              "    }\n",
              "    90% {\n",
              "      border-color: transparent;\n",
              "      border-bottom-color: var(--fill-color);\n",
              "    }\n",
              "  }\n",
              "</style>\n",
              "\n",
              "  <script>\n",
              "    async function quickchart(key) {\n",
              "      const quickchartButtonEl =\n",
              "        document.querySelector('#' + key + ' button');\n",
              "      quickchartButtonEl.disabled = true;  // To prevent multiple clicks.\n",
              "      quickchartButtonEl.classList.add('colab-df-spinner');\n",
              "      try {\n",
              "        const charts = await google.colab.kernel.invokeFunction(\n",
              "            'suggestCharts', [key], {});\n",
              "      } catch (error) {\n",
              "        console.error('Error during call to suggestCharts:', error);\n",
              "      }\n",
              "      quickchartButtonEl.classList.remove('colab-df-spinner');\n",
              "      quickchartButtonEl.classList.add('colab-df-quickchart-complete');\n",
              "    }\n",
              "    (() => {\n",
              "      let quickchartButtonEl =\n",
              "        document.querySelector('#df-ce4881a1-6b91-461c-9abb-c38d4f830ae5 button');\n",
              "      quickchartButtonEl.style.display =\n",
              "        google.colab.kernel.accessAllowed ? 'block' : 'none';\n",
              "    })();\n",
              "  </script>\n",
              "</div>\n",
              "\n",
              "    </div>\n",
              "  </div>\n"
            ],
            "application/vnd.google.colaboratory.intrinsic+json": {
              "type": "dataframe",
              "variable_name": "df",
              "summary": "{\n  \"name\": \"df\",\n  \"rows\": 7990,\n  \"fields\": [\n    {\n      \"column\": \"Review\",\n      \"properties\": {\n        \"dtype\": \"string\",\n        \"num_unique_values\": 7990,\n        \"samples\": [\n          \"Business class in a LAN Airlines Boeing 787, from Frankfurt to Madrid. Although they don't have a lounge in Frankfurt, we were able to use the new Air Canada lounge. There wasn't any lack of good food, all kinds of drinks and entertainment. The same in Madrid, using the Iberia one. Onboard the staff were taking care of all our requests. We were served a welcoming drink (pisco or sparkling wine) a very light salad and smoked ham with some of the best chilean wines. The pilot gave information about the flight, landing times, connection flights and so on. I must say I had the opportunity to fly them from Santiago to Easter island, 2 months later, in the same aircraft but this time economy and all I could say it was that except the food, which was average (not the wine and Cafe Juan Valdez) the experience was same as pleasent as the business one. \",\n          \" As usual Bangkok Airways never disappoints. The fare is very affordable, checking in a luggage is free, the lounge is free food and WiFi. The airplane looks very clean and sharp, the staff are all smiles, relaxed and very friendly. This is my favorite airline in south asia. I love it.\",\n          \"  They lost my baggage as there was no one to help you at the carousel I tried asking multiple officers and other officials all were looking for the El Al associates who just didn\\u2019t care to show up today. Barely missed my flight to Boston all because these people working this airline can\\u2019t figure it out.\"\n        ],\n        \"semantic_type\": \"\",\n        \"description\": \"\"\n      }\n    },\n    {\n      \"column\": \"sarcasm\",\n      \"properties\": {\n        \"dtype\": \"number\",\n        \"std\": 0,\n        \"min\": 0,\n        \"max\": 1,\n        \"num_unique_values\": 2,\n        \"samples\": [\n          0,\n          1\n        ],\n        \"semantic_type\": \"\",\n        \"description\": \"\"\n      }\n    },\n    {\n      \"column\": \"review_length\",\n      \"properties\": {\n        \"dtype\": \"number\",\n        \"std\": 521,\n        \"min\": 89,\n        \"max\": 4940,\n        \"num_unique_values\": 1767,\n        \"samples\": [\n          1269,\n          1027\n        ],\n        \"semantic_type\": \"\",\n        \"description\": \"\"\n      }\n    },\n    {\n      \"column\": \"cleaned_review\",\n      \"properties\": {\n        \"dtype\": \"string\",\n        \"num_unique_values\": 7990,\n        \"samples\": [\n          \"business class in a lan airlines boeing 787 from frankfurt to madrid although they don t have a lounge in frankfurt we were able to use the new air canada lounge there wasn t any lack of good food all kinds of drinks and entertainment the same in madrid using the iberia one onboard the staff were taking care of all our requests we were served a welcoming drink pisco or sparkling wine a very light salad and smoked ham with some of the best chilean wines the pilot gave information about the flight landing times connection flights and so on i must say i had the opportunity to fly them from santiago to easter island 2 months later in the same aircraft but this time economy and all i could say it was that except the food which was average not the wine and cafe juan valdez the experience was same as pleasent as the business one \",\n          \" as usual bangkok airways never disappoints the fare is very affordable checking in a luggage is free the lounge is free food and wifi the airplane looks very clean and sharp the staff are all smiles relaxed and very friendly this is my favorite airline in south asia i love it \"\n        ],\n        \"semantic_type\": \"\",\n        \"description\": \"\"\n      }\n    },\n    {\n      \"column\": \"tokens\",\n      \"properties\": {\n        \"dtype\": \"object\",\n        \"semantic_type\": \"\",\n        \"description\": \"\"\n      }\n    },\n    {\n      \"column\": \"lemmatized_tokens\",\n      \"properties\": {\n        \"dtype\": \"object\",\n        \"semantic_type\": \"\",\n        \"description\": \"\"\n      }\n    },\n    {\n      \"column\": \"final_review\",\n      \"properties\": {\n        \"dtype\": \"string\",\n        \"num_unique_values\": 7990,\n        \"samples\": [\n          \"business class lan airline boeing 787 frankfurt madrid although lounge frankfurt able use new air canada lounge lack good food kind drink entertainment madrid using iberia one onboard staff taking care request served welcoming drink pisco sparkling wine light salad smoked ham best chilean wine pilot gave information flight landing time connection flight must say opportunity fly santiago easter island 2 month later aircraft time economy could say except food average wine cafe juan valdez experience pleasent business one\",\n          \"usual bangkok airway never disappoints fare affordable checking luggage free lounge free food wifi airplane look clean sharp staff smile relaxed friendly favorite airline south asia love\"\n        ],\n        \"semantic_type\": \"\",\n        \"description\": \"\"\n      }\n    },\n    {\n      \"column\": \"num_exclamations\",\n      \"properties\": {\n        \"dtype\": \"number\",\n        \"std\": 0,\n        \"min\": 0,\n        \"max\": 0,\n        \"num_unique_values\": 1,\n        \"samples\": [\n          0\n        ],\n        \"semantic_type\": \"\",\n        \"description\": \"\"\n      }\n    },\n    {\n      \"column\": \"Sarcasm_encoded\",\n      \"properties\": {\n        \"dtype\": \"number\",\n        \"std\": 0,\n        \"min\": 0,\n        \"max\": 1,\n        \"num_unique_values\": 2,\n        \"samples\": [\n          0\n        ],\n        \"semantic_type\": \"\",\n        \"description\": \"\"\n      }\n    }\n  ]\n}"
            }
          },
          "metadata": {},
          "execution_count": 21
        }
      ]
    },
    {
      "cell_type": "markdown",
      "source": [
        "#SubWord tokenization\n",
        "\n",
        "1. Tokenization\n",
        "2. Stop Words Removal\n",
        "3. Lemmatization\n",
        "4. Class balacing\n"
      ],
      "metadata": {
        "id": "igFVERVzAi4z"
      }
    },
    {
      "cell_type": "code",
      "source": [
        "from transformers import AutoTokenizer\n",
        "\n",
        "# Load the BERT tokenizer\n",
        "tokenizer = AutoTokenizer.from_pretrained('bert-base-uncased')\n",
        "\n",
        "# Function to tokenize a review using BERT tokenizer\n",
        "def subword_tokenize(text):\n",
        "    return tokenizer.tokenize(text)\n",
        "\n",
        "# Apply the subword_tokenize function to the cleaned_review column\n",
        "df['subword_tokens'] = df['cleaned_review'].apply(subword_tokenize)\n",
        "\n",
        "# Display the DataFrame with subword tokenized words\n",
        "print(df)\n"
      ],
      "metadata": {
        "colab": {
          "base_uri": "https://localhost:8080/",
          "height": 1000,
          "referenced_widgets": [
            "52ebd9fa0cad47c1993c9e44a1c08ec8",
            "b61359102c47443884741fc296fecdbf",
            "71e06b16a8e849d88d160e97eaa28276",
            "1ab0150a158e467b991fba21953409d2",
            "4e7dccb1f1e74450880c6e94be227814",
            "340155febe7647ec9e383d3f999d87a2",
            "73fab892220d44a8a4eb9a4aa038e70f",
            "98f51cf1b7f74219a38c4422ec8d57df",
            "2e21aba85e6a40ce8a17ac3f307432de",
            "ff030350f5eb4e73b44c0382ff3c40ba",
            "c4d8f83a6d71499faa7510dc6ab43c05",
            "90b776f9fef145f6b788a83ea1509c97",
            "a8d68d1cf9864b198e820ddd4e6b9a8e",
            "ea57b00fb15a4a5e80f0b29a53d36eea",
            "47a3ee5b7a42475ebb36bf926a20b8b1",
            "757f3ebcc3954ac985cb3828800346e7",
            "1c5b37b2f316429989a94582512cf9c9",
            "dc83336ad8964538a4e0582f8d77b4b1",
            "1530bf6907eb41f49cd45c3c942ae99d",
            "d5b6a8f7e011415ab12669ca87707566",
            "e0749d13b84e4dd5b66560c7dbdbadbf",
            "bc8ba466dbd849ea87839e4fea58b40a",
            "ffcc171c3a3e484ca86fdf979c5971c9",
            "ac6f3f93676b4d7ea5d24b991f330431",
            "ae799b8a7abc42f0a5cfd1f962c5fe75",
            "45684f3526e64fe2a1e554de1fbd41a3",
            "d15f5672462f4b73b68fb9fe6ac0bcc9",
            "58d6b6c742ea410fa28384ec1eee920a",
            "aad8084af7bc45388cbb6cda39439a99",
            "57660aae59294c56bf352c5476cf5000",
            "84c4f11dcfcb4589aea3be6c2bed5a03",
            "3f2dde82cea74a97adb1c7db2e78f75b",
            "7168a0a543834bc68fa9c352fe54a96e",
            "c661fb3fa3f24b37b88a1cf34b6bacda",
            "802de9f35b974d4c84d50e0818f8f08e",
            "a70664db683c469f8406df39d3723e22",
            "5a242fa5943a4954a995ff27dd27a606",
            "9cb64dd06fa0474786859ef5135dbeed",
            "a5d464752002478280bdb33a94626579",
            "9197f9cc5ac9419c900e045195391429",
            "f69a8b3ae0e744dab2b5bb40f6eeb21c",
            "37e9e0e5e1cd4bf5bf046b0c00ab927b",
            "f21c71c8d3414a91aa1118dc24d2c479",
            "69a805a3a9c845588595a0677db8cdda"
          ]
        },
        "id": "cNvg4xtg_BA1",
        "outputId": "82f1957a-fba2-4d05-b208-286e9966f1e9"
      },
      "execution_count": 22,
      "outputs": [
        {
          "output_type": "stream",
          "name": "stderr",
          "text": [
            "/usr/local/lib/python3.10/dist-packages/huggingface_hub/utils/_token.py:89: UserWarning: \n",
            "The secret `HF_TOKEN` does not exist in your Colab secrets.\n",
            "To authenticate with the Hugging Face Hub, create a token in your settings tab (https://huggingface.co/settings/tokens), set it as secret in your Google Colab and restart your session.\n",
            "You will be able to reuse this secret in all of your notebooks.\n",
            "Please note that authentication is recommended but still optional to access public models or datasets.\n",
            "  warnings.warn(\n"
          ]
        },
        {
          "output_type": "display_data",
          "data": {
            "text/plain": [
              "tokenizer_config.json:   0%|          | 0.00/48.0 [00:00<?, ?B/s]"
            ],
            "application/vnd.jupyter.widget-view+json": {
              "version_major": 2,
              "version_minor": 0,
              "model_id": "52ebd9fa0cad47c1993c9e44a1c08ec8"
            }
          },
          "metadata": {}
        },
        {
          "output_type": "stream",
          "name": "stderr",
          "text": [
            "/usr/local/lib/python3.10/dist-packages/huggingface_hub/file_download.py:1132: FutureWarning: `resume_download` is deprecated and will be removed in version 1.0.0. Downloads always resume when possible. If you want to force a new download, use `force_download=True`.\n",
            "  warnings.warn(\n"
          ]
        },
        {
          "output_type": "display_data",
          "data": {
            "text/plain": [
              "config.json:   0%|          | 0.00/570 [00:00<?, ?B/s]"
            ],
            "application/vnd.jupyter.widget-view+json": {
              "version_major": 2,
              "version_minor": 0,
              "model_id": "90b776f9fef145f6b788a83ea1509c97"
            }
          },
          "metadata": {}
        },
        {
          "output_type": "display_data",
          "data": {
            "text/plain": [
              "vocab.txt:   0%|          | 0.00/232k [00:00<?, ?B/s]"
            ],
            "application/vnd.jupyter.widget-view+json": {
              "version_major": 2,
              "version_minor": 0,
              "model_id": "ffcc171c3a3e484ca86fdf979c5971c9"
            }
          },
          "metadata": {}
        },
        {
          "output_type": "display_data",
          "data": {
            "text/plain": [
              "tokenizer.json:   0%|          | 0.00/466k [00:00<?, ?B/s]"
            ],
            "application/vnd.jupyter.widget-view+json": {
              "version_major": 2,
              "version_minor": 0,
              "model_id": "c661fb3fa3f24b37b88a1cf34b6bacda"
            }
          },
          "metadata": {}
        },
        {
          "output_type": "stream",
          "name": "stderr",
          "text": [
            "Token indices sequence length is longer than the specified maximum sequence length for this model (517 > 512). Running this sequence through the model will result in indexing errors\n"
          ]
        },
        {
          "output_type": "stream",
          "name": "stdout",
          "text": [
            "                                                  Review  sarcasm  \\\n",
            "17155    Tel Aviv to Amman. We had a short flight to ...        1   \n",
            "10119    Flight got delayed when I was flying to DR f...        1   \n",
            "18821   Flying alone, my 14 year old daughter’s fligh...        1   \n",
            "10628    Pune to Delhi. This airline misleads it’s cu...        1   \n",
            "2188    I fly this route from Malta to Amsterdam almo...        1   \n",
            "...                                                  ...      ...   \n",
            "8342     The flight was delayed for 2.5hrs, causing u...        1   \n",
            "16264    They cancelled my flight and after delaying ...        1   \n",
            "11056    Hong Kong to Chengdu. Hong Kong Airlines is ...        1   \n",
            "16769    Horrible experience with REX Airlines. Tried...        1   \n",
            "1496     The reviews prior to booking were a concern ...        0   \n",
            "\n",
            "       review_length                                     cleaned_review  \\\n",
            "17155            330   tel aviv to amman we had a short flight to co...   \n",
            "10119            660   flight got delayed when i was flying to dr fo...   \n",
            "18821            478   flying alone my 14 year old daughter s flight...   \n",
            "10628            411   pune to delhi this airline misleads it s cust...   \n",
            "2188             336   i fly this route from malta to amsterdam almo...   \n",
            "...              ...                                                ...   \n",
            "8342             991   the flight was delayed for 2 5hrs causing us ...   \n",
            "16264            189   they cancelled my flight and after delaying m...   \n",
            "11056            359   hong kong to chengdu hong kong airlines is th...   \n",
            "16769            678   horrible experience with rex airlines tried t...   \n",
            "1496             622   the reviews prior to booking were a concern d...   \n",
            "\n",
            "                                                  tokens  \\\n",
            "17155  [tel, aviv, amman, short, flight, connect, amm...   \n",
            "10119  [flight, got, delayed, flying, dr, hour, way, ...   \n",
            "18821  [flying, alone, 14, year, old, daughter, fligh...   \n",
            "10628  [pune, delhi, airline, misleads, customers, ex...   \n",
            "2188   [fly, route, malta, amsterdam, almost, every, ...   \n",
            "...                                                  ...   \n",
            "8342   [flight, delayed, 2, 5hrs, causing, us, miss, ...   \n",
            "16264  [cancelled, flight, delaying, new, flight, 6, ...   \n",
            "11056  [hong, kong, chengdu, hong, kong, airlines, lo...   \n",
            "16769  [horrible, experience, rex, airlines, tried, f...   \n",
            "1496   [reviews, prior, booking, concern, due, report...   \n",
            "\n",
            "                                       lemmatized_tokens  \\\n",
            "17155  [tel, aviv, amman, short, flight, connect, amm...   \n",
            "10119  [flight, got, delayed, flying, dr, hour, way, ...   \n",
            "18821  [flying, alone, 14, year, old, daughter, fligh...   \n",
            "10628  [pune, delhi, airline, misleads, customer, exp...   \n",
            "2188   [fly, route, malta, amsterdam, almost, every, ...   \n",
            "...                                                  ...   \n",
            "8342   [flight, delayed, 2, 5hrs, causing, u, miss, b...   \n",
            "16264  [cancelled, flight, delaying, new, flight, 6, ...   \n",
            "11056  [hong, kong, chengdu, hong, kong, airline, low...   \n",
            "16769  [horrible, experience, rex, airline, tried, fi...   \n",
            "1496   [review, prior, booking, concern, due, reporte...   \n",
            "\n",
            "                                            final_review  num_exclamations  \\\n",
            "17155  tel aviv amman short flight connect amman conn...                 0   \n",
            "10119  flight got delayed flying dr hour way back got...                 0   \n",
            "18821  flying alone 14 year old daughter flight cance...                 0   \n",
            "10628  pune delhi airline misleads customer experienc...                 0   \n",
            "2188   fly route malta amsterdam almost every week tr...                 0   \n",
            "...                                                  ...               ...   \n",
            "8342   flight delayed 2 5hrs causing u miss bus 90min...                 0   \n",
            "16264  cancelled flight delaying new flight 6 time ca...                 0   \n",
            "11056  hong kong chengdu hong kong airline low cost h...                 0   \n",
            "16769  horrible experience rex airline tried first ti...                 0   \n",
            "1496   review prior booking concern due reported dela...                 0   \n",
            "\n",
            "       Sarcasm_encoded                                     subword_tokens  \n",
            "17155                1  [tel, aviv, to, amman, we, had, a, short, flig...  \n",
            "10119                1  [flight, got, delayed, when, i, was, flying, t...  \n",
            "18821                1  [flying, alone, my, 14, year, old, daughter, s...  \n",
            "10628                1  [pune, to, delhi, this, airline, mis, ##lea, #...  \n",
            "2188                 1  [i, fly, this, route, from, malta, to, amsterd...  \n",
            "...                ...                                                ...  \n",
            "8342                 1  [the, flight, was, delayed, for, 2, 5, ##hr, #...  \n",
            "16264                1  [they, cancelled, my, flight, and, after, dela...  \n",
            "11056                1  [hong, kong, to, cheng, ##du, hong, kong, airl...  \n",
            "16769                1  [horrible, experience, with, rex, airlines, tr...  \n",
            "1496                 0  [the, reviews, prior, to, booking, were, a, co...  \n",
            "\n",
            "[7990 rows x 10 columns]\n"
          ]
        }
      ]
    },
    {
      "cell_type": "code",
      "source": [
        "# Stop Words Removal\n",
        "stop_words = set(stopwords.words('english'))\n",
        "df['subword_tokens'] = df['subword_tokens'].apply(lambda x: [word for word in x if word not in stop_words])\n",
        "\n",
        "# Lemmatization\n",
        "lemmatizer = WordNetLemmatizer()\n",
        "df['lemmatized_tokens_sub'] = df['subword_tokens'].apply(lambda x: [lemmatizer.lemmatize(word) for word in x])\n"
      ],
      "metadata": {
        "id": "zHsv6feWzuEP"
      },
      "execution_count": 23,
      "outputs": []
    },
    {
      "cell_type": "markdown",
      "source": [
        "#Word2Vec vectorization"
      ],
      "metadata": {
        "id": "B16PtC0mzXk6"
      }
    },
    {
      "cell_type": "code",
      "source": [
        "from gensim.models import Word2Vec\n",
        "from nltk.tokenize import word_tokenize\n",
        "import numpy as np\n",
        "import pandas as pd\n",
        "\n",
        "# Train Word2Vec model\n",
        "word2vec_model = Word2Vec(sentences=df['lemmatized_tokens_sub'], vector_size=100, window=5, min_count=1, workers=4)\n",
        "\n",
        "# Function to get averaged word vectors for a review\n",
        "def get_average_word_vectors(tokens, model):\n",
        "    vectors = [model.wv[token] for token in tokens if token in model.wv]\n",
        "    if vectors:\n",
        "        return np.mean(vectors, axis=0)\n",
        "    else:\n",
        "        return np.zeros(model.vector_size)  # Return zero vector if no tokens are in the vocabulary\n",
        "\n",
        "# Apply Word2Vec to each review and get the averaged vectors\n",
        "df['word2vec_avg1'] = df['lemmatized_tokens_sub'].apply(lambda tokens: get_average_word_vectors(tokens, word2vec_model))\n",
        "\n",
        "# Convert the averaged vectors to a DataFrame\n",
        "word2vec_df = pd.DataFrame(df['word2vec_avg1'].tolist(), columns=[f'word2vec1_{i}' for i in range(word2vec_model.vector_size)])\n",
        "\n",
        "# Concatenate with existing dataset (assuming data_final already includes encoded features)\n",
        "data_final_word2vec1 = pd.concat([df.reset_index(drop=True), word2vec_df], axis=1)\n",
        "\n",
        "# Display the final dataset with Word2Vec features\n",
        "print(data_final_word2vec1.head())\n"
      ],
      "metadata": {
        "colab": {
          "base_uri": "https://localhost:8080/"
        },
        "id": "VW37-5ebDG-t",
        "outputId": "8d2de712-96f7-4e64-a8b0-670c7336fd01"
      },
      "execution_count": 24,
      "outputs": [
        {
          "output_type": "stream",
          "name": "stdout",
          "text": [
            "                                              Review  sarcasm  review_length  \\\n",
            "0    Tel Aviv to Amman. We had a short flight to ...        1            330   \n",
            "1    Flight got delayed when I was flying to DR f...        1            660   \n",
            "2   Flying alone, my 14 year old daughter’s fligh...        1            478   \n",
            "3    Pune to Delhi. This airline misleads it’s cu...        1            411   \n",
            "4   I fly this route from Malta to Amsterdam almo...        1            336   \n",
            "\n",
            "                                      cleaned_review  \\\n",
            "0   tel aviv to amman we had a short flight to co...   \n",
            "1   flight got delayed when i was flying to dr fo...   \n",
            "2   flying alone my 14 year old daughter s flight...   \n",
            "3   pune to delhi this airline misleads it s cust...   \n",
            "4   i fly this route from malta to amsterdam almo...   \n",
            "\n",
            "                                              tokens  \\\n",
            "0  [tel, aviv, amman, short, flight, connect, amm...   \n",
            "1  [flight, got, delayed, flying, dr, hour, way, ...   \n",
            "2  [flying, alone, 14, year, old, daughter, fligh...   \n",
            "3  [pune, delhi, airline, misleads, customers, ex...   \n",
            "4  [fly, route, malta, amsterdam, almost, every, ...   \n",
            "\n",
            "                                   lemmatized_tokens  \\\n",
            "0  [tel, aviv, amman, short, flight, connect, amm...   \n",
            "1  [flight, got, delayed, flying, dr, hour, way, ...   \n",
            "2  [flying, alone, 14, year, old, daughter, fligh...   \n",
            "3  [pune, delhi, airline, misleads, customer, exp...   \n",
            "4  [fly, route, malta, amsterdam, almost, every, ...   \n",
            "\n",
            "                                        final_review  num_exclamations  \\\n",
            "0  tel aviv amman short flight connect amman conn...                 0   \n",
            "1  flight got delayed flying dr hour way back got...                 0   \n",
            "2  flying alone 14 year old daughter flight cance...                 0   \n",
            "3  pune delhi airline misleads customer experienc...                 0   \n",
            "4  fly route malta amsterdam almost every week tr...                 0   \n",
            "\n",
            "   Sarcasm_encoded                                     subword_tokens  ...  \\\n",
            "0                1  [tel, aviv, amman, short, flight, connect, amm...  ...   \n",
            "1                1  [flight, got, delayed, flying, dr, hour, way, ...  ...   \n",
            "2                1  [flying, alone, 14, year, old, daughter, fligh...  ...   \n",
            "3                1  [pune, delhi, airline, mis, ##lea, ##ds, custo...  ...   \n",
            "4                1  [fly, route, malta, amsterdam, almost, every, ...  ...   \n",
            "\n",
            "  word2vec1_90 word2vec1_91  word2vec1_92  word2vec1_93  word2vec1_94  \\\n",
            "0     0.372528     0.322111      0.060024      0.234833      0.632874   \n",
            "1     0.579035     0.415726      0.042826      0.365072      0.658944   \n",
            "2     0.516394     0.287160     -0.251397      0.185283      0.635257   \n",
            "3     0.537289     0.327605      0.056100      0.402617      0.630756   \n",
            "4     0.457078     0.372599     -0.435665      0.084719      0.539955   \n",
            "\n",
            "   word2vec1_95  word2vec1_96  word2vec1_97  word2vec1_98  word2vec1_99  \n",
            "0      0.249684      0.100532     -0.310517      0.052994      0.103345  \n",
            "1      0.481083      0.126818     -0.204956      0.229915      0.178345  \n",
            "2      0.549392      0.100053     -0.271330     -0.112292     -0.212156  \n",
            "3      0.303759      0.036693     -0.301606     -0.049948      0.235130  \n",
            "4      0.389715      0.194045     -0.212475      0.093415      0.009475  \n",
            "\n",
            "[5 rows x 112 columns]\n"
          ]
        }
      ]
    },
    {
      "cell_type": "markdown",
      "source": [
        "#Balancing the class using SMOTE\n",
        "\n",
        "\n"
      ],
      "metadata": {
        "id": "GlFqLPf7zwHs"
      }
    },
    {
      "cell_type": "code",
      "source": [
        "from imblearn.over_sampling import SMOTE\n",
        "import numpy as np\n",
        "from sklearn.model_selection import train_test_split\n",
        "from sklearn.ensemble import RandomForestClassifier\n",
        "from sklearn.metrics import classification_report, accuracy_score\n",
        "\n",
        "# Assuming X is your feature matrix from Word2Vec\n",
        "X = np.array(df['word2vec_avg1'].tolist())\n",
        "y = np.array(df['Sarcasm_encoded'])\n",
        "\n",
        "# Apply SMOTE to balance the dataset\n",
        "smote = SMOTE(random_state=42)\n",
        "X_resampled, y_resampled = smote.fit_resample(X, y)\n",
        "\n",
        "# Convert X_resampled and y_resampled back to DataFrame if needed\n",
        "X_resampled_df = pd.DataFrame(X_resampled, columns=[f'word2vec1_{i}' for i in range(X.shape[1])])\n",
        "y_resampled_df = pd.DataFrame(y_resampled, columns=['Sarcasm_encoded'])\n",
        "\n",
        "# Concatenate X_resampled_df and y_resampled_df into a new balanced DataFrame\n",
        "balanced_df = pd.concat([X_resampled_df, y_resampled_df], axis=1)\n",
        "\n",
        "#Split the resampled data into training and testing sets\n",
        "X_train_word, X_test_word, y_train_word, y_test_word = train_test_split(X_resampled, y_resampled, test_size=0.2, random_state=42)"
      ],
      "metadata": {
        "id": "7BhKYMeRzs4e"
      },
      "execution_count": null,
      "outputs": []
    },
    {
      "cell_type": "markdown",
      "source": [
        "#Model Training\n",
        "\n",
        "1. Random Forest Model"
      ],
      "metadata": {
        "id": "Cu47zay1yhue"
      }
    },
    {
      "cell_type": "code",
      "source": [
        "# Train the Random Forest model\n",
        "clf = RandomForestClassifier(n_estimators=50, random_state=42)\n",
        "clf.fit(X_train_word, y_train_word)\n",
        "\n",
        "# Make predictions\n",
        "y_pred_word = clf.predict(X_test_word)\n",
        "\n",
        "# Evaluate the model\n",
        "print(\"Accuracy:\", accuracy_score(y_test_word, y_pred_word))\n",
        "print(\"Classification Report:\\n\", classification_report(y_test_word, y_pred_word))"
      ],
      "metadata": {
        "colab": {
          "base_uri": "https://localhost:8080/"
        },
        "id": "j_DIsYwXJpaJ",
        "outputId": "abf46853-e949-4094-9837-637771b5d420"
      },
      "execution_count": null,
      "outputs": [
        {
          "output_type": "stream",
          "name": "stdout",
          "text": [
            "Accuracy: 0.8978070175438596\n",
            "Classification Report:\n",
            "               precision    recall  f1-score   support\n",
            "\n",
            "           0       0.88      0.93      0.90      1174\n",
            "           1       0.92      0.87      0.89      1106\n",
            "\n",
            "    accuracy                           0.90      2280\n",
            "   macro avg       0.90      0.90      0.90      2280\n",
            "weighted avg       0.90      0.90      0.90      2280\n",
            "\n"
          ]
        }
      ]
    },
    {
      "cell_type": "markdown",
      "source": [
        "2. SVM Model"
      ],
      "metadata": {
        "id": "jz57RkbLytxJ"
      }
    },
    {
      "cell_type": "code",
      "source": [
        "from sklearn.svm import SVC\n",
        "\n",
        "# Train the SVM model\n",
        "svm_model = SVC(kernel='linear', random_state=42)\n",
        "svm_model.fit(X_train_word, y_train_word)\n",
        "\n",
        "# Make predictions\n",
        "y_pred_word = svm_model.predict(X_test_word)\n",
        "\n",
        "# Evaluate the model\n",
        "print(\"--- Support Vector Machine ---\")\n",
        "print(\"Accuracy:\", accuracy_score(y_test_word, y_pred_word))\n",
        "print(\"Classification Report:\\n\", classification_report(y_test_word, y_pred_word))\n"
      ],
      "metadata": {
        "colab": {
          "base_uri": "https://localhost:8080/"
        },
        "id": "MGj1cLaZFRif",
        "outputId": "ad7848cf-db5b-4acc-d7f7-33b7f8406ecf"
      },
      "execution_count": null,
      "outputs": [
        {
          "output_type": "stream",
          "name": "stdout",
          "text": [
            "--- Support Vector Machine ---\n",
            "Accuracy: 0.8697368421052631\n",
            "Classification Report:\n",
            "               precision    recall  f1-score   support\n",
            "\n",
            "           0       0.86      0.89      0.88      1174\n",
            "           1       0.88      0.85      0.86      1106\n",
            "\n",
            "    accuracy                           0.87      2280\n",
            "   macro avg       0.87      0.87      0.87      2280\n",
            "weighted avg       0.87      0.87      0.87      2280\n",
            "\n"
          ]
        }
      ]
    },
    {
      "cell_type": "markdown",
      "source": [
        "3. LogisticRegression Model"
      ],
      "metadata": {
        "id": "NkHgIhiIyvqb"
      }
    },
    {
      "cell_type": "code",
      "source": [
        "from sklearn.linear_model import LogisticRegression\n",
        "\n",
        "# Train the Logistic Regression model\n",
        "logistic_model = LogisticRegression(random_state=42)\n",
        "logistic_model.fit(X_train_word, y_train_word)\n",
        "\n",
        "# Make predictions\n",
        "y_pred_word = logistic_model.predict(X_test_word)\n",
        "\n",
        "# Evaluate the model\n",
        "print(\"--- Logistic Regression ---\")\n",
        "print(\"Accuracy:\", accuracy_score(y_test_word, y_pred_word))\n",
        "print(\"Classification Report:\\n\", classification_report(y_test_word, y_pred_word))\n"
      ],
      "metadata": {
        "colab": {
          "base_uri": "https://localhost:8080/"
        },
        "id": "J7v9u6_8FWcZ",
        "outputId": "7b617760-82fb-47e1-8473-573a88f0ee74"
      },
      "execution_count": null,
      "outputs": [
        {
          "output_type": "stream",
          "name": "stdout",
          "text": [
            "--- Logistic Regression ---\n",
            "Accuracy: 0.8657894736842106\n",
            "Classification Report:\n",
            "               precision    recall  f1-score   support\n",
            "\n",
            "           0       0.87      0.87      0.87      1174\n",
            "           1       0.87      0.86      0.86      1106\n",
            "\n",
            "    accuracy                           0.87      2280\n",
            "   macro avg       0.87      0.87      0.87      2280\n",
            "weighted avg       0.87      0.87      0.87      2280\n",
            "\n"
          ]
        },
        {
          "output_type": "stream",
          "name": "stderr",
          "text": [
            "/usr/local/lib/python3.10/dist-packages/sklearn/linear_model/_logistic.py:458: ConvergenceWarning: lbfgs failed to converge (status=1):\n",
            "STOP: TOTAL NO. of ITERATIONS REACHED LIMIT.\n",
            "\n",
            "Increase the number of iterations (max_iter) or scale the data as shown in:\n",
            "    https://scikit-learn.org/stable/modules/preprocessing.html\n",
            "Please also refer to the documentation for alternative solver options:\n",
            "    https://scikit-learn.org/stable/modules/linear_model.html#logistic-regression\n",
            "  n_iter_i = _check_optimize_result(\n"
          ]
        }
      ]
    },
    {
      "cell_type": "markdown",
      "source": [
        "4. GaussianNB"
      ],
      "metadata": {
        "id": "C0YYPQdSy0JE"
      }
    },
    {
      "cell_type": "code",
      "source": [
        "from sklearn.naive_bayes import GaussianNB\n",
        "\n",
        "# Train the Gaussian Naive Bayes model\n",
        "gnb_model = GaussianNB()\n",
        "gnb_model.fit(X_train_word, y_train_word)\n",
        "\n",
        "# Make predictions\n",
        "y_pred_word = gnb_model.predict(X_test_word)\n",
        "\n",
        "# Evaluate the model\n",
        "print(\"--- Gaussian Naive Bayes ---\")\n",
        "print(\"Accuracy:\", accuracy_score(y_test_word, y_pred_word))\n",
        "print(\"Classification Report:\\n\", classification_report(y_test_word, y_pred_word))\n"
      ],
      "metadata": {
        "colab": {
          "base_uri": "https://localhost:8080/"
        },
        "id": "toP6ZFffFWnn",
        "outputId": "5ea0699e-2b3f-42e3-9686-addb523daabe"
      },
      "execution_count": null,
      "outputs": [
        {
          "output_type": "stream",
          "name": "stdout",
          "text": [
            "--- Gaussian Naive Bayes ---\n",
            "Accuracy: 0.8184210526315789\n",
            "Classification Report:\n",
            "               precision    recall  f1-score   support\n",
            "\n",
            "           0       0.80      0.87      0.83      1174\n",
            "           1       0.84      0.77      0.80      1106\n",
            "\n",
            "    accuracy                           0.82      2280\n",
            "   macro avg       0.82      0.82      0.82      2280\n",
            "weighted avg       0.82      0.82      0.82      2280\n",
            "\n"
          ]
        }
      ]
    },
    {
      "cell_type": "markdown",
      "source": [
        "5. Gradient Boosting Model"
      ],
      "metadata": {
        "id": "rPnq5btXzNal"
      }
    },
    {
      "cell_type": "code",
      "source": [
        "from sklearn.ensemble import GradientBoostingClassifier\n",
        "\n",
        "# Train the Gradient Boosting model\n",
        "gb_model = GradientBoostingClassifier(n_estimators=50, random_state=42)\n",
        "gb_model.fit(X_train_word, y_train_word)\n",
        "\n",
        "# Make predictions\n",
        "y_pred_word = gb_model.predict(X_test_word)\n",
        "\n",
        "# Evaluate the model\n",
        "print(\"--- Gradient Boosting ---\")\n",
        "print(\"Accuracy:\", accuracy_score(y_test_word, y_pred_word))\n",
        "print(\"Classification Report:\\n\", classification_report(y_test_word, y_pred_word))\n"
      ],
      "metadata": {
        "colab": {
          "base_uri": "https://localhost:8080/"
        },
        "id": "Kcp_gYk7FW4S",
        "outputId": "5fa85e9e-5a24-48fd-aca1-7fe0d524e7e9"
      },
      "execution_count": null,
      "outputs": [
        {
          "output_type": "stream",
          "name": "stdout",
          "text": [
            "--- Gradient Boosting ---\n",
            "Accuracy: 0.8675438596491228\n",
            "Classification Report:\n",
            "               precision    recall  f1-score   support\n",
            "\n",
            "           0       0.86      0.89      0.87      1174\n",
            "           1       0.88      0.84      0.86      1106\n",
            "\n",
            "    accuracy                           0.87      2280\n",
            "   macro avg       0.87      0.87      0.87      2280\n",
            "weighted avg       0.87      0.87      0.87      2280\n",
            "\n"
          ]
        }
      ]
    },
    {
      "cell_type": "markdown",
      "source": [
        "#TfidfVectorizer"
      ],
      "metadata": {
        "id": "oPYN5IL7yU1a"
      }
    },
    {
      "cell_type": "code",
      "source": [
        "from sklearn.feature_extraction.text import TfidfVectorizer\n",
        "from imblearn.over_sampling import SMOTE\n",
        "from sklearn.ensemble import RandomForestClassifier\n",
        "from sklearn.metrics import classification_report, accuracy_score\n",
        "from sklearn.model_selection import train_test_split\n",
        "\n",
        "# Concatenate tokenized sentences into strings for each review\n",
        "df['concatenated_sentences'] = df['lemmatized_tokens_sub'].apply(lambda tokens: ' '.join(tokens))\n",
        "\n",
        "vectorizer = TfidfVectorizer(max_features=5000)\n",
        "X_tfidf = vectorizer.fit_transform(df['concatenated_sentences']).toarray()\n",
        "\n",
        "# Split the data into training and testing sets\n",
        "X_train_tfidf, X_test_tfidf, y_train, y_test = train_test_split(X_tfidf, df['Sarcasm_encoded'], test_size=0.2, random_state=42)\n",
        "\n",
        "# Apply SMOTE to balance the training set\n",
        "smote = SMOTE(random_state=42)\n",
        "X_resampled_tfidf, y_resampled_tfidf = smote.fit_resample(X_train_tfidf, y_train)"
      ],
      "metadata": {
        "id": "YAmJHiE70F-B"
      },
      "execution_count": null,
      "outputs": []
    },
    {
      "cell_type": "markdown",
      "source": [
        "#Model Traning\n",
        "\n",
        "1. Random Forest Model\n",
        "2. SVM Model\n",
        "3. Logistic Regression Model\n",
        "4. GaussianNB Model\n",
        "5. Gradient Boosting Model"
      ],
      "metadata": {
        "id": "loa5thBs0JIp"
      }
    },
    {
      "cell_type": "code",
      "source": [
        "# Train the Random Forest model on the balanced data\n",
        "clf = RandomForestClassifier(n_estimators=50, random_state=42)\n",
        "clf.fit(X_resampled_tfidf, y_resampled_tfidf)\n",
        "\n",
        "# Make predictions on the test set\n",
        "y_pred = clf.predict(X_test_tfidf)\n",
        "\n",
        "# Evaluate the model\n",
        "print(\"Accuracy:\", accuracy_score(y_test, y_pred))\n",
        "print(\"Classification Report:\\n\", classification_report(y_test, y_pred))\n"
      ],
      "metadata": {
        "colab": {
          "base_uri": "https://localhost:8080/"
        },
        "id": "Hzpuf7qZJyWZ",
        "outputId": "448661c0-a3f3-486c-e44e-d9d35a7258e9"
      },
      "execution_count": null,
      "outputs": [
        {
          "output_type": "stream",
          "name": "stdout",
          "text": [
            "Accuracy: 0.8811013767209012\n",
            "Classification Report:\n",
            "               precision    recall  f1-score   support\n",
            "\n",
            "           0       0.78      0.83      0.81       474\n",
            "           1       0.93      0.90      0.91      1124\n",
            "\n",
            "    accuracy                           0.88      1598\n",
            "   macro avg       0.85      0.87      0.86      1598\n",
            "weighted avg       0.88      0.88      0.88      1598\n",
            "\n"
          ]
        }
      ]
    },
    {
      "cell_type": "code",
      "source": [
        "\n",
        "# Train the SVM model\n",
        "svm_model = SVC(kernel='linear', random_state=42)\n",
        "svm_model.fit(X_resampled_tfidf, y_resampled_tfidf)\n",
        "\n",
        "# Make predictions on the test set\n",
        "y_pred = svm_model.predict(X_test_tfidf)\n",
        "\n",
        "# Evaluate the model\n",
        "print(\"--- Support Vector Machine ---\")\n",
        "print(\"Accuracy:\", accuracy_score(y_test, y_pred))\n",
        "print(\"Classification Report:\\n\", classification_report(y_test, y_pred))\n"
      ],
      "metadata": {
        "colab": {
          "base_uri": "https://localhost:8080/"
        },
        "id": "X2BzJ75msKd2",
        "outputId": "07983a3b-43cc-4c67-ddbd-08a015bb44b9"
      },
      "execution_count": null,
      "outputs": [
        {
          "output_type": "stream",
          "name": "stdout",
          "text": [
            "--- Support Vector Machine ---\n",
            "Accuracy: 0.89549436795995\n",
            "Classification Report:\n",
            "               precision    recall  f1-score   support\n",
            "\n",
            "           0       0.82      0.84      0.83       474\n",
            "           1       0.93      0.92      0.93      1124\n",
            "\n",
            "    accuracy                           0.90      1598\n",
            "   macro avg       0.87      0.88      0.88      1598\n",
            "weighted avg       0.90      0.90      0.90      1598\n",
            "\n"
          ]
        }
      ]
    },
    {
      "cell_type": "code",
      "source": [
        "# Train the Logistic Regression model\n",
        "logistic_model = LogisticRegression(random_state=42)\n",
        "logistic_model.fit(X_resampled_tfidf, y_resampled_tfidf)\n",
        "\n",
        "# Make predictions on the test set\n",
        "y_pred = logistic_model.predict(X_test_tfidf)\n",
        "\n",
        "# Evaluate the model\n",
        "print(\"--- Logistic Regression ---\")\n",
        "print(\"Accuracy:\", accuracy_score(y_test, y_pred))\n",
        "print(\"Classification Report:\\n\", classification_report(y_test, y_pred))\n"
      ],
      "metadata": {
        "colab": {
          "base_uri": "https://localhost:8080/"
        },
        "id": "HR7GWabosQ__",
        "outputId": "aeedc30b-9dfa-4f2f-a01c-1f6420ba06e7"
      },
      "execution_count": null,
      "outputs": [
        {
          "output_type": "stream",
          "name": "stdout",
          "text": [
            "--- Logistic Regression ---\n",
            "Accuracy: 0.8979974968710889\n",
            "Classification Report:\n",
            "               precision    recall  f1-score   support\n",
            "\n",
            "           0       0.81      0.86      0.83       474\n",
            "           1       0.94      0.91      0.93      1124\n",
            "\n",
            "    accuracy                           0.90      1598\n",
            "   macro avg       0.87      0.89      0.88      1598\n",
            "weighted avg       0.90      0.90      0.90      1598\n",
            "\n"
          ]
        }
      ]
    },
    {
      "cell_type": "code",
      "source": [
        "from sklearn.naive_bayes import GaussianNB\n",
        "from sklearn.naive_bayes import MultinomialNB\n",
        "\n",
        "# Train the Naive Bayes model\n",
        "nb_model = MultinomialNB()\n",
        "nb_model.fit(X_resampled_tfidf, y_resampled_tfidf)\n",
        "\n",
        "# Make predictions on the test set\n",
        "y_pred = nb_model.predict(X_test_tfidf)\n",
        "\n",
        "# Evaluate the model\n",
        "print(\"--- Naive Bayes ---\")\n",
        "print(\"Accuracy:\", accuracy_score(y_test, y_pred))\n",
        "print(\"Classification Report:\\n\", classification_report(y_test, y_pred))\n"
      ],
      "metadata": {
        "colab": {
          "base_uri": "https://localhost:8080/"
        },
        "id": "L56WxiYwDHpq",
        "outputId": "a9be5bf2-7b82-4712-b64a-a52298314b78"
      },
      "execution_count": null,
      "outputs": [
        {
          "output_type": "stream",
          "name": "stdout",
          "text": [
            "--- Naive Bayes ---\n",
            "Accuracy: 0.8654568210262829\n",
            "Classification Report:\n",
            "               precision    recall  f1-score   support\n",
            "\n",
            "           0       0.73      0.87      0.79       474\n",
            "           1       0.94      0.86      0.90      1124\n",
            "\n",
            "    accuracy                           0.87      1598\n",
            "   macro avg       0.83      0.87      0.85      1598\n",
            "weighted avg       0.88      0.87      0.87      1598\n",
            "\n"
          ]
        }
      ]
    },
    {
      "cell_type": "code",
      "source": [
        "from sklearn.ensemble import GradientBoostingClassifier\n",
        "\n",
        "# Train the Gradient Boosting model\n",
        "gb_model = GradientBoostingClassifier(n_estimators=50, random_state=42)\n",
        "gb_model.fit(X_resampled_tfidf, y_resampled_tfidf)\n",
        "\n",
        "# Make predictions on the test set\n",
        "y_pred = gb_model.predict(X_test_tfidf)\n",
        "\n",
        "# Evaluate the model\n",
        "print(\"--- Gradient Boosting ---\")\n",
        "print(\"Accuracy:\", accuracy_score(y_test, y_pred))\n",
        "print(\"Classification Report:\\n\", classification_report(y_test, y_pred))\n"
      ],
      "metadata": {
        "colab": {
          "base_uri": "https://localhost:8080/"
        },
        "id": "lRmlQyIoDL5K",
        "outputId": "6fc6bf35-1bd6-4ad5-bc03-698154e5168e"
      },
      "execution_count": null,
      "outputs": [
        {
          "output_type": "stream",
          "name": "stdout",
          "text": [
            "--- Gradient Boosting ---\n",
            "Accuracy: 0.8448060075093867\n",
            "Classification Report:\n",
            "               precision    recall  f1-score   support\n",
            "\n",
            "           0       0.73      0.75      0.74       474\n",
            "           1       0.89      0.89      0.89      1124\n",
            "\n",
            "    accuracy                           0.84      1598\n",
            "   macro avg       0.81      0.82      0.81      1598\n",
            "weighted avg       0.85      0.84      0.85      1598\n",
            "\n"
          ]
        }
      ]
    },
    {
      "cell_type": "markdown",
      "source": [
        "#FastText vectorizer"
      ],
      "metadata": {
        "id": "FcQsOkLLyaT3"
      }
    },
    {
      "cell_type": "code",
      "source": [
        "from gensim.models import FastText\n",
        "from sklearn.model_selection import train_test_split\n",
        "from sklearn.metrics import classification_report, accuracy_score\n",
        "from imblearn.over_sampling import SMOTE\n",
        "import numpy as np\n",
        "\n",
        "# Train FastText model\n",
        "fasttext_model = FastText(sentences=df['lemmatized_tokens_sub'], vector_size=100, window=5, min_count=1, workers=4)\n",
        "\n",
        "# Get FastText embeddings for each sentence\n",
        "def get_sentence_embedding(sentence, model):\n",
        "    return np.mean([model.wv[token] for token in sentence if token in model.wv], axis=0)\n",
        "\n",
        "X = np.array([get_sentence_embedding(tokens, fasttext_model) for tokens in df['lemmatized_tokens_sub']])\n",
        "y = np.array(df['Sarcasm_encoded'])\n",
        "\n",
        "# Apply SMOTE to balance the dataset\n",
        "smote = SMOTE(random_state=42)\n",
        "X_resampled, y_resampled = smote.fit_resample(X, y)\n",
        "\n",
        "# Split the data into training and testing sets\n",
        "X_train_fastText, X_test_fastText, y_train_fastText, y_test_fastText = train_test_split(X_resampled, y_resampled, test_size=0.2, random_state=42)\n"
      ],
      "metadata": {
        "id": "M0bvgHJf0kbR"
      },
      "execution_count": null,
      "outputs": []
    },
    {
      "cell_type": "markdown",
      "source": [
        "#Model Traning\n",
        "\n",
        "1. Random Forest Model\n",
        "2. SVM Model\n",
        "3. Logistic Regression Model\n",
        "4. GaussianNB Model"
      ],
      "metadata": {
        "id": "vF7hjhd60mkJ"
      }
    },
    {
      "cell_type": "code",
      "source": [
        "# Train the Random Forest model\n",
        "clf = RandomForestClassifier(n_estimators=50, random_state=42)\n",
        "clf.fit(X_train_fastText, y_train_fastText)\n",
        "\n",
        "# Make predictions\n",
        "y_pred_fastText = clf.predict(X_test_fastText)\n",
        "\n",
        "# Evaluate the model\n",
        "print(\"Accuracy:\", accuracy_score(y_test_fastText, y_pred_fastText))\n",
        "print(\"Classification Report:\\n\", classification_report(y_test_fastText, y_pred_fastText))\n"
      ],
      "metadata": {
        "colab": {
          "base_uri": "https://localhost:8080/"
        },
        "id": "r8mcI1gBFKvq",
        "outputId": "faedefd4-532d-4162-b7a2-686b4f76ddb5"
      },
      "execution_count": null,
      "outputs": [
        {
          "output_type": "stream",
          "name": "stdout",
          "text": [
            "Accuracy: 0.8912280701754386\n",
            "Classification Report:\n",
            "               precision    recall  f1-score   support\n",
            "\n",
            "           0       0.87      0.93      0.90      1174\n",
            "           1       0.92      0.85      0.88      1106\n",
            "\n",
            "    accuracy                           0.89      2280\n",
            "   macro avg       0.89      0.89      0.89      2280\n",
            "weighted avg       0.89      0.89      0.89      2280\n",
            "\n"
          ]
        }
      ]
    },
    {
      "cell_type": "code",
      "source": [
        "# Train the SVM model\n",
        "svm_model = SVC(kernel='linear', random_state=42)\n",
        "svm_model.fit(X_train_fastText, y_train_fastText)\n",
        "\n",
        "# Make predictions\n",
        "y_pred_fastText = svm_model.predict(X_test_fastText)\n",
        "\n",
        "# Evaluate the model\n",
        "print(\"--- Support Vector Machine ---\")\n",
        "print(\"Accuracy:\", accuracy_score(y_test_fastText, y_pred_fastText))\n",
        "print(\"Classification Report:\\n\", classification_report(y_test_fastText, y_pred_fastText))\n"
      ],
      "metadata": {
        "colab": {
          "base_uri": "https://localhost:8080/"
        },
        "id": "n6k78ETFqzV1",
        "outputId": "10ca61f7-dc1d-4fb7-c166-f32e10579b5e"
      },
      "execution_count": null,
      "outputs": [
        {
          "output_type": "stream",
          "name": "stdout",
          "text": [
            "--- Support Vector Machine ---\n",
            "Accuracy: 0.8570175438596491\n",
            "Classification Report:\n",
            "               precision    recall  f1-score   support\n",
            "\n",
            "           0       0.85      0.87      0.86      1174\n",
            "           1       0.86      0.84      0.85      1106\n",
            "\n",
            "    accuracy                           0.86      2280\n",
            "   macro avg       0.86      0.86      0.86      2280\n",
            "weighted avg       0.86      0.86      0.86      2280\n",
            "\n"
          ]
        }
      ]
    },
    {
      "cell_type": "code",
      "source": [
        "# Train the Logistic Regression model\n",
        "logistic_model = LogisticRegression(random_state=42)\n",
        "logistic_model.fit(X_train_fastText, y_train_fastText)\n",
        "\n",
        "# Make predictions\n",
        "y_pred_fastText = logistic_model.predict(X_test_fastText)\n",
        "\n",
        "# Evaluate the model\n",
        "print(\"--- Logistic Regression ---\")\n",
        "print(\"Accuracy:\", accuracy_score(y_test_fastText, y_pred_fastText))\n",
        "print(\"Classification Report:\\n\", classification_report(y_test_fastText, y_pred_fastText))\n"
      ],
      "metadata": {
        "colab": {
          "base_uri": "https://localhost:8080/"
        },
        "id": "s3T86FxTqz5X",
        "outputId": "75b99986-3410-4223-e559-c3fb9b73630e"
      },
      "execution_count": null,
      "outputs": [
        {
          "output_type": "stream",
          "name": "stdout",
          "text": [
            "--- Logistic Regression ---\n",
            "Accuracy: 0.8543859649122807\n",
            "Classification Report:\n",
            "               precision    recall  f1-score   support\n",
            "\n",
            "           0       0.85      0.87      0.86      1174\n",
            "           1       0.86      0.84      0.85      1106\n",
            "\n",
            "    accuracy                           0.85      2280\n",
            "   macro avg       0.85      0.85      0.85      2280\n",
            "weighted avg       0.85      0.85      0.85      2280\n",
            "\n"
          ]
        },
        {
          "output_type": "stream",
          "name": "stderr",
          "text": [
            "/usr/local/lib/python3.10/dist-packages/sklearn/linear_model/_logistic.py:458: ConvergenceWarning: lbfgs failed to converge (status=1):\n",
            "STOP: TOTAL NO. of ITERATIONS REACHED LIMIT.\n",
            "\n",
            "Increase the number of iterations (max_iter) or scale the data as shown in:\n",
            "    https://scikit-learn.org/stable/modules/preprocessing.html\n",
            "Please also refer to the documentation for alternative solver options:\n",
            "    https://scikit-learn.org/stable/modules/linear_model.html#logistic-regression\n",
            "  n_iter_i = _check_optimize_result(\n"
          ]
        }
      ]
    },
    {
      "cell_type": "code",
      "source": [
        "# Train the Gaussian Naive Bayes model\n",
        "gnb_model = GaussianNB()\n",
        "gnb_model.fit(X_train_fastText, y_train_fastText)\n",
        "\n",
        "# Make predictions\n",
        "y_pred_fastText = gnb_model.predict(X_test_fastText)\n",
        "\n",
        "# Evaluate the model\n",
        "print(\"--- Gaussian Naive Bayes ---\")\n",
        "print(\"Accuracy:\", accuracy_score(y_test_fastText, y_pred_fastText))\n",
        "print(\"Classification Report:\\n\", classification_report(y_test_fastText, y_pred_fastText))\n"
      ],
      "metadata": {
        "colab": {
          "base_uri": "https://localhost:8080/"
        },
        "id": "TmcVSWUzrLH_",
        "outputId": "906179a0-58b8-4181-8be0-9cc36fc05f61"
      },
      "execution_count": null,
      "outputs": [
        {
          "output_type": "stream",
          "name": "stdout",
          "text": [
            "--- Gaussian Naive Bayes ---\n",
            "Accuracy: 0.8122807017543859\n",
            "Classification Report:\n",
            "               precision    recall  f1-score   support\n",
            "\n",
            "           0       0.79      0.87      0.83      1174\n",
            "           1       0.84      0.75      0.80      1106\n",
            "\n",
            "    accuracy                           0.81      2280\n",
            "   macro avg       0.82      0.81      0.81      2280\n",
            "weighted avg       0.82      0.81      0.81      2280\n",
            "\n"
          ]
        }
      ]
    },
    {
      "cell_type": "markdown",
      "source": [
        "#Conclusion\n",
        "\n",
        "Mpdels with the highest accuracy for eaModelsch vectorization technique\n",
        "\n",
        "1. Word2Vec - 89.78 - Random Forest model\n",
        "\n",
        "2. TF-IDF   - 89.79 - Logistic Regression model\n",
        "\n",
        "3. FastText - 89.12 - SVM model\n"
      ],
      "metadata": {
        "id": "ESXjGNFe2IA-"
      }
    }
  ]
}